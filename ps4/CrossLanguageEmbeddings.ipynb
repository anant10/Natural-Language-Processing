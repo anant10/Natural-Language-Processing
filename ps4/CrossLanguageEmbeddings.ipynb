{
  "nbformat": 4,
  "nbformat_minor": 0,
  "metadata": {
    "colab": {
      "name": "CrossLanguageEmbeddings.ipynb",
      "provenance": [],
      "collapsed_sections": [],
      "include_colab_link": true
    },
    "kernelspec": {
      "display_name": "Python 3",
      "language": "python",
      "name": "python3"
    },
    "language_info": {
      "codemirror_mode": {
        "name": "ipython",
        "version": 3
      },
      "file_extension": ".py",
      "mimetype": "text/x-python",
      "name": "python",
      "nbconvert_exporter": "python",
      "pygments_lexer": "ipython3",
      "version": "3.6.9"
    }
  },
  "cells": [
    {
      "cell_type": "markdown",
      "metadata": {
        "id": "view-in-github",
        "colab_type": "text"
      },
      "source": [
        "<a href=\"https://colab.research.google.com/github/NULabTMN/ps4-AnantShanbhag93/blob/master/CrossLanguageEmbeddings.ipynb\" target=\"_parent\"><img src=\"https://colab.research.google.com/assets/colab-badge.svg\" alt=\"Open In Colab\"/></a>"
      ]
    },
    {
      "cell_type": "markdown",
      "metadata": {
        "colab_type": "text",
        "id": "oDsn_Motja8Q"
      },
      "source": [
        "# Cross-Language Word Embeddings\n",
        "\n",
        "We have mentioned, and will discuss in more detail this week, how we can reduce the dimensionality of word representations from their original vectors space to an embedding space on the order of a few hundred dimensions. Different modeling choices for word embeddings may be ultimately evaluated by the effectiveness of classifiers, parsers, and other inference models that use those embeddings.\n",
        "\n",
        "In this assignment, however, we will consider another common method of evaluating word embeddings: by judging the usefulness of pairwise distances between words in the embedding space.\n",
        "\n",
        "Follow along with the examples in this notebook, and implement the sections of code flagged with **TODO**."
      ]
    },
    {
      "cell_type": "code",
      "metadata": {
        "colab_type": "code",
        "id": "UKm5cPMQ2xHU",
        "colab": {}
      },
      "source": [
        "import gensim\n",
        "import numpy as np\n",
        "from gensim.test.utils import datapath, get_tmpfile\n",
        "from gensim.models import Word2Vec\n",
        "from gensim.models.word2vec import LineSentence"
      ],
      "execution_count": 0,
      "outputs": []
    },
    {
      "cell_type": "markdown",
      "metadata": {
        "colab_type": "text",
        "id": "sfKjYFDklB4c"
      },
      "source": [
        "We'll start by downloading a plain-text version of the Shakespeare plays we used for the first assignment."
      ]
    },
    {
      "cell_type": "code",
      "metadata": {
        "colab_type": "code",
        "id": "Dw3bvl1yf5FB",
        "outputId": "47d3d856-a1d8-4c05-f902-74fa171b1d44",
        "colab": {
          "base_uri": "https://localhost:8080/",
          "height": 202
        }
      },
      "source": [
        "!wget http://www.ccs.neu.edu/home/dasmith/courses/cs6120/shakespeare_plays.txt\n",
        "lines = [s.split() for s in open('shakespeare_plays.txt')]"
      ],
      "execution_count": 3,
      "outputs": [
        {
          "output_type": "stream",
          "text": [
            "--2020-04-20 14:05:41--  http://www.ccs.neu.edu/home/dasmith/courses/cs6120/shakespeare_plays.txt\n",
            "Resolving www.ccs.neu.edu (www.ccs.neu.edu)... 52.70.229.197\n",
            "Connecting to www.ccs.neu.edu (www.ccs.neu.edu)|52.70.229.197|:80... connected.\n",
            "HTTP request sent, awaiting response... 200 OK\n",
            "Length: 4746840 (4.5M) [text/plain]\n",
            "Saving to: ‘shakespeare_plays.txt’\n",
            "\n",
            "shakespeare_plays.t 100%[===================>]   4.53M  3.13MB/s    in 1.4s    \n",
            "\n",
            "2020-04-20 14:05:43 (3.13 MB/s) - ‘shakespeare_plays.txt’ saved [4746840/4746840]\n",
            "\n"
          ],
          "name": "stdout"
        }
      ]
    },
    {
      "cell_type": "markdown",
      "metadata": {
        "colab_type": "text",
        "id": "5cZ52pEflKKM"
      },
      "source": [
        "Then, we'll estimate a simple word2vec model on the Shakespeare texts."
      ]
    },
    {
      "cell_type": "code",
      "metadata": {
        "colab_type": "code",
        "id": "eXT5BNPs_zjM",
        "colab": {}
      },
      "source": [
        "model = Word2Vec(lines)"
      ],
      "execution_count": 0,
      "outputs": []
    },
    {
      "cell_type": "markdown",
      "metadata": {
        "colab_type": "text",
        "id": "Fzt3lG1-lw33"
      },
      "source": [
        "Even with such a small training set size, you can perform some standard analogy tasks."
      ]
    },
    {
      "cell_type": "code",
      "metadata": {
        "colab_type": "code",
        "id": "i4ruAqhKC3-R",
        "outputId": "52b5919d-2f21-4af6-d8a7-6d1ca304164b",
        "colab": {
          "base_uri": "https://localhost:8080/",
          "height": 238
        }
      },
      "source": [
        "model.wv.most_similar(positive=['king','woman'], negative=['man'])"
      ],
      "execution_count": 5,
      "outputs": [
        {
          "output_type": "stream",
          "text": [
            "/usr/local/lib/python3.6/dist-packages/gensim/matutils.py:737: FutureWarning: Conversion of the second argument of issubdtype from `int` to `np.signedinteger` is deprecated. In future, it will be treated as `np.int64 == np.dtype(int).type`.\n",
            "  if np.issubdtype(vec.dtype, np.int):\n"
          ],
          "name": "stderr"
        },
        {
          "output_type": "execute_result",
          "data": {
            "text/plain": [
              "[('queen', 0.8013672232627869),\n",
              " ('prince', 0.7768323421478271),\n",
              " ('warwick', 0.7431796193122864),\n",
              " ('york', 0.7204311490058899),\n",
              " ('clarence', 0.7182973027229309),\n",
              " ('margaret', 0.700549840927124),\n",
              " ('duke', 0.69575035572052),\n",
              " ('princess', 0.692003607749939),\n",
              " ('gloucester', 0.684795618057251),\n",
              " ('cardinal', 0.6820204257965088)]"
            ]
          },
          "metadata": {
            "tags": []
          },
          "execution_count": 5
        }
      ]
    },
    {
      "cell_type": "markdown",
      "metadata": {
        "colab_type": "text",
        "id": "AJL45y5emjA9"
      },
      "source": [
        "For the rest of this assignment, we will focus on finding words with similar embeddings, both within and across languages. For example, what words are similar to the name of the title character of *Othello*?"
      ]
    },
    {
      "cell_type": "code",
      "metadata": {
        "colab_type": "code",
        "id": "1EZGroU0KPyj",
        "outputId": "99ac3d3e-6b5f-42d8-f93d-70a33ea9f574",
        "colab": {
          "base_uri": "https://localhost:8080/",
          "height": 238
        }
      },
      "source": [
        "model.wv.most_similar(positive=['othello'])\n",
        "#model.wv.most_similar(positive=['brutus'])"
      ],
      "execution_count": 6,
      "outputs": [
        {
          "output_type": "stream",
          "text": [
            "/usr/local/lib/python3.6/dist-packages/gensim/matutils.py:737: FutureWarning: Conversion of the second argument of issubdtype from `int` to `np.signedinteger` is deprecated. In future, it will be treated as `np.int64 == np.dtype(int).type`.\n",
            "  if np.issubdtype(vec.dtype, np.int):\n"
          ],
          "name": "stderr"
        },
        {
          "output_type": "execute_result",
          "data": {
            "text/plain": [
              "[('desdemona', 0.9635088443756104),\n",
              " ('cleopatra', 0.9403950572013855),\n",
              " ('iago', 0.9370341300964355),\n",
              " ('valentine', 0.9258862733840942),\n",
              " ('cassio', 0.9208383560180664),\n",
              " ('emilia', 0.9184393882751465),\n",
              " ('proteus', 0.9165088534355164),\n",
              " ('ham', 0.9153567552566528),\n",
              " ('ford', 0.9076030254364014),\n",
              " ('glou', 0.9026821851730347)]"
            ]
          },
          "metadata": {
            "tags": []
          },
          "execution_count": 6
        }
      ]
    },
    {
      "cell_type": "markdown",
      "metadata": {
        "colab_type": "text",
        "id": "UM2BT_7zZle3"
      },
      "source": [
        "This search uses cosine similarity. In the default API, you should see the same similarity between the words `othello` and `desdemona` as in the search results above."
      ]
    },
    {
      "cell_type": "code",
      "metadata": {
        "colab_type": "code",
        "id": "-e32-u4zYFda",
        "outputId": "eaba0c5b-0299-4153-80f1-fea7fb579517",
        "colab": {
          "base_uri": "https://localhost:8080/",
          "height": 87
        }
      },
      "source": [
        "model.wv.similarity('othello', 'desdemona')\n",
        "model.wv.similarity('queen', 'king')"
      ],
      "execution_count": 7,
      "outputs": [
        {
          "output_type": "stream",
          "text": [
            "/usr/local/lib/python3.6/dist-packages/gensim/matutils.py:737: FutureWarning: Conversion of the second argument of issubdtype from `int` to `np.signedinteger` is deprecated. In future, it will be treated as `np.int64 == np.dtype(int).type`.\n",
            "  if np.issubdtype(vec.dtype, np.int):\n"
          ],
          "name": "stderr"
        },
        {
          "output_type": "execute_result",
          "data": {
            "text/plain": [
              "0.72393024"
            ]
          },
          "metadata": {
            "tags": []
          },
          "execution_count": 7
        }
      ]
    },
    {
      "cell_type": "markdown",
      "metadata": {
        "colab_type": "text",
        "id": "c49DwfAmZ6PU"
      },
      "source": [
        "**TODO**: Your **first task** therefore is to implement your own cosine similarity function so that you can reuse it outside of the context of the gensim model object."
      ]
    },
    {
      "cell_type": "code",
      "metadata": {
        "colab_type": "code",
        "id": "rEj2PqpuZ5xs",
        "outputId": "a7ba26de-deb7-472f-c7f6-1de0e82364d9",
        "colab": {
          "base_uri": "https://localhost:8080/",
          "height": 34
        }
      },
      "source": [
        "## TODO: Implement cosim\n",
        "def cosim(v1, v2):\n",
        "  ## return cosine similarity between v1 and v2\n",
        "  num = np.dot(v1,v2)\n",
        "  v1_sq = np.square(v1)\n",
        "  v2_sq = np.square(v2)\n",
        "  v1_sq_sum = np.sum(v1_sq)\n",
        "  v2_sq_sum = np.sum(v2_sq)\n",
        "  sim = num / (np.sqrt(v1_sq_sum) * np.sqrt(v2_sq_sum))\n",
        "  return sim\n",
        "\n",
        "## This should give a result similar to model.wv.similarity:\n",
        "cosim(model.wv['othello'], model.wv['desdemona'])\n",
        "cosim(model.wv['king'], model.wv['queen'])"
      ],
      "execution_count": 8,
      "outputs": [
        {
          "output_type": "execute_result",
          "data": {
            "text/plain": [
              "0.72393024"
            ]
          },
          "metadata": {
            "tags": []
          },
          "execution_count": 8
        }
      ]
    },
    {
      "cell_type": "markdown",
      "metadata": {
        "colab_type": "text",
        "id": "3TbDqBIHbHfB"
      },
      "source": [
        "## Evaluation\n",
        "\n",
        "We could collect a lot of human judgments about how similar pairs of words, or pairs of Shakespearean characters, are. Then we could compare different word-embedding models by their ability to replicate these human judgments.\n",
        "\n",
        "If we extend our ambition to multiple languages, however, we can use a word translation task to evaluate word embeddings.\n",
        "\n",
        "We will use a subset of [Facebook AI's FastText cross-language embeddings](https://fasttext.cc/docs/en/aligned-vectors.html) for several languages. Your task will be to compare English both to French, and to *one more language* from the following set: Arabic, German, Portuguese, Russian, Spanish, Vietnamese, and Chinese."
      ]
    },
    {
      "cell_type": "code",
      "metadata": {
        "colab_type": "code",
        "id": "FC_FXRnfq1BO",
        "outputId": "2525eef4-02e7-4ace-a51f-714666ff8083",
        "colab": {
          "base_uri": "https://localhost:8080/",
          "height": 571
        }
      },
      "source": [
        "!wget http://www.ccs.neu.edu/home/dasmith/courses/cs6120/30k.en.vec\n",
        "!wget http://www.ccs.neu.edu/home/dasmith/courses/cs6120/30k.fr.vec\n",
        "\n",
        "# TODO: uncomment at least one of these\n",
        "# !wget http://www.ccs.neu.edu/home/dasmith/courses/cs6120/30k.ar.vec\n",
        "# wget http://www.ccs.neu.edu/home/dasmith/courses/cs6120/30k.de.vec\n",
        "# !wget http://www.ccs.neu.edu/home/dasmith/courses/cs6120/30k.pt.vec\n",
        "# !wget http://www.ccs.neu.edu/home/dasmith/courses/cs6120/30k.ru.vec\n",
        "!wget http://www.ccs.neu.edu/home/dasmith/courses/cs6120/30k.es.vec\n",
        "# !wget http://www.ccs.neu.edu/home/dasmith/courses/cs6120/30k.vi.vec\n",
        "# !wget http://www.ccs.neu.edu/home/dasmith/courses/cs6120/30k.zh.vec"
      ],
      "execution_count": 9,
      "outputs": [
        {
          "output_type": "stream",
          "text": [
            "--2020-04-20 14:05:54--  http://www.ccs.neu.edu/home/dasmith/courses/cs6120/30k.en.vec\n",
            "Resolving www.ccs.neu.edu (www.ccs.neu.edu)... 52.70.229.197\n",
            "Connecting to www.ccs.neu.edu (www.ccs.neu.edu)|52.70.229.197|:80... connected.\n",
            "HTTP request sent, awaiting response... 200 OK\n",
            "Length: 67681172 (65M)\n",
            "Saving to: ‘30k.en.vec’\n",
            "\n",
            "30k.en.vec          100%[===================>]  64.54M  15.6MB/s    in 5.4s    \n",
            "\n",
            "2020-04-20 14:06:00 (12.0 MB/s) - ‘30k.en.vec’ saved [67681172/67681172]\n",
            "\n",
            "--2020-04-20 14:06:01--  http://www.ccs.neu.edu/home/dasmith/courses/cs6120/30k.fr.vec\n",
            "Resolving www.ccs.neu.edu (www.ccs.neu.edu)... 52.70.229.197\n",
            "Connecting to www.ccs.neu.edu (www.ccs.neu.edu)|52.70.229.197|:80... connected.\n",
            "HTTP request sent, awaiting response... 200 OK\n",
            "Length: 67802327 (65M)\n",
            "Saving to: ‘30k.fr.vec’\n",
            "\n",
            "30k.fr.vec          100%[===================>]  64.66M  15.9MB/s    in 5.3s    \n",
            "\n",
            "2020-04-20 14:06:06 (12.1 MB/s) - ‘30k.fr.vec’ saved [67802327/67802327]\n",
            "\n",
            "--2020-04-20 14:06:07--  http://www.ccs.neu.edu/home/dasmith/courses/cs6120/30k.es.vec\n",
            "Resolving www.ccs.neu.edu (www.ccs.neu.edu)... 52.70.229.197\n",
            "Connecting to www.ccs.neu.edu (www.ccs.neu.edu)|52.70.229.197|:80... connected.\n",
            "HTTP request sent, awaiting response... 200 OK\n",
            "Length: 67762853 (65M) [application/ecmascript]\n",
            "Saving to: ‘30k.es.vec’\n",
            "\n",
            "30k.es.vec          100%[===================>]  64.62M  15.6MB/s    in 5.4s    \n",
            "\n",
            "2020-04-20 14:06:13 (12.0 MB/s) - ‘30k.es.vec’ saved [67762853/67762853]\n",
            "\n"
          ],
          "name": "stdout"
        }
      ]
    },
    {
      "cell_type": "markdown",
      "metadata": {
        "colab_type": "text",
        "id": "nmuIvGpNrJPe"
      },
      "source": [
        "We'll start by loading the word vectors from their textual file format to a dictionary mapping words to numpy arrays."
      ]
    },
    {
      "cell_type": "code",
      "metadata": {
        "colab_type": "code",
        "id": "VbWORXkP2Vvn",
        "colab": {}
      },
      "source": [
        "def vecref(s):\n",
        "  (word, srec) = s.split(' ', 1)\n",
        "  return (word, np.fromstring(srec, sep=' '))\n",
        "\n",
        "def ftvectors(fname):\n",
        "  return { k:v for (k, v) in [vecref(s) for s in open(fname)] if len(v) > 1} \n",
        "\n",
        "envec = ftvectors('30k.en.vec')\n",
        "frvec = ftvectors('30k.fr.vec')\n",
        "\n",
        "# TODO: load vectors for one more language, such as zhvec\n",
        "# arvec = ftvectors('30k.ar.vec')\n",
        "# devec = ftvectors('30k.de.vec')\n",
        "# ptvec = ftvectors('30k.pt.vec')\n",
        "# ruvec = ftvectors('30k.ru.vec')\n",
        "esvec = ftvectors('30k.es.vec')\n",
        "# vivec = ftvectors('30k.vi.vec')\n",
        "# zhvec = ftvectors('30k.zh.vec')"
      ],
      "execution_count": 0,
      "outputs": []
    },
    {
      "cell_type": "markdown",
      "metadata": {
        "colab_type": "text",
        "id": "j88E1JdueZHc"
      },
      "source": [
        "**TODO**: Your next task is to write a simple function that takes a vector and a dictionary of vectors and finds the most similar item in the dictionary. For this assignment, a linear scan through the dictionary using your `cosim` function from above is acceptible."
      ]
    },
    {
      "cell_type": "code",
      "metadata": {
        "id": "lN0XQoUOw_JX",
        "colab_type": "code",
        "colab": {
          "base_uri": "https://localhost:8080/",
          "height": 101
        },
        "outputId": "4e58e4e1-e8ea-4d3b-f71d-c43c4c2da13b"
      },
      "source": [
        "## TODO: implement this search function\n",
        "def mostSimilar(vec, vecDict):\n",
        "  ## Use your cosim function from above\n",
        "  max = 0;\n",
        "  mostSimilar = ''\n",
        "  for word,vec2 in vecDict.items():\n",
        "    sim = cosim(vec, vec2)\n",
        "    if sim>max:\n",
        "      max = sim\n",
        "      mostSimilar = word\n",
        "  similarity = max\n",
        "  return (mostSimilar, similarity)\n",
        "\n",
        "## some example searches\n",
        "[mostSimilar(envec[e], frvec) for e in ['computer', 'germany', 'matrix', 'physics', 'yeast']]"
      ],
      "execution_count": 11,
      "outputs": [
        {
          "output_type": "execute_result",
          "data": {
            "text/plain": [
              "[('informatique', 0.5023827767603765),\n",
              " ('allemagne', 0.5937184138759639),\n",
              " ('matrice', 0.5088361302065516),\n",
              " ('physique', 0.4555543434796393),\n",
              " ('fermentation', 0.3504105196166514)]"
            ]
          },
          "metadata": {
            "tags": []
          },
          "execution_count": 11
        }
      ]
    },
    {
      "cell_type": "markdown",
      "metadata": {
        "colab_type": "text",
        "id": "NIKUD5qxpUMB"
      },
      "source": [
        "Some matches make more sense than others. Note that `computer` most closely matches `informatique`, the French term for *computer science*. If you looked further down the list, you would see `ordinateur`, the term for *computer*. This is one weakness of a focus only on embeddings for word *types* independent of context.\n",
        "\n",
        "To evalute cross-language embeddings more broadly, we'll look at a dataset of links between Wikipedia articles."
      ]
    },
    {
      "cell_type": "code",
      "metadata": {
        "colab_type": "code",
        "id": "az10sIFwsEUP",
        "outputId": "bec583e4-a723-4e6f-8d34-8f7a4273c2c7",
        "colab": {
          "base_uri": "https://localhost:8080/",
          "height": 202
        }
      },
      "source": [
        "!wget http://www.ccs.neu.edu/home/dasmith/courses/cs6120/links.tab\n",
        "links = [s.split() for s in open('links.tab')]"
      ],
      "execution_count": 12,
      "outputs": [
        {
          "output_type": "stream",
          "text": [
            "--2020-04-20 14:06:22--  http://www.ccs.neu.edu/home/dasmith/courses/cs6120/links.tab\n",
            "Resolving www.ccs.neu.edu (www.ccs.neu.edu)... 52.70.229.197\n",
            "Connecting to www.ccs.neu.edu (www.ccs.neu.edu)|52.70.229.197|:80... connected.\n",
            "HTTP request sent, awaiting response... 200 OK\n",
            "Length: 1408915 (1.3M)\n",
            "Saving to: ‘links.tab’\n",
            "\n",
            "links.tab           100%[===================>]   1.34M  1.25MB/s    in 1.1s    \n",
            "\n",
            "2020-04-20 14:06:23 (1.25 MB/s) - ‘links.tab’ saved [1408915/1408915]\n",
            "\n"
          ],
          "name": "stdout"
        }
      ]
    },
    {
      "cell_type": "markdown",
      "metadata": {
        "colab_type": "text",
        "id": "sqHq0hFCv8NY"
      },
      "source": [
        "This `links` variable consists of triples of `(English term, language, term in that language)`. For example, here is the link between English `academy` and French `académie`:"
      ]
    },
    {
      "cell_type": "code",
      "metadata": {
        "colab_type": "code",
        "id": "RQ7eusdxtdsq",
        "outputId": "feffd228-15ed-4c73-aa59-370a794a1f1e",
        "colab": {
          "base_uri": "https://localhost:8080/",
          "height": 34
        }
      },
      "source": [
        "links[302]"
      ],
      "execution_count": 13,
      "outputs": [
        {
          "output_type": "execute_result",
          "data": {
            "text/plain": [
              "['academy', 'fr', 'académie']"
            ]
          },
          "metadata": {
            "tags": []
          },
          "execution_count": 13
        }
      ]
    },
    {
      "cell_type": "code",
      "metadata": {
        "id": "AMKhutA7Ilol",
        "colab_type": "code",
        "outputId": "7f52bbd4-e6e4-40ff-871c-8d1eebbee96f",
        "colab": {
          "base_uri": "https://localhost:8080/",
          "height": 54
        }
      },
      "source": [
        "print(links[:100])"
      ],
      "execution_count": 14,
      "outputs": [
        {
          "output_type": "stream",
          "text": [
            "[['a', 'ar', 'a'], ['a', 'de', 'a'], ['a', 'es', 'a'], ['a', 'ja', 'a'], ['a', 'pt', 'a'], ['a', 'vi', 'a'], ['a', 'zh', 'a'], ['aachen', 'ar', 'آخن'], ['aachen', 'de', 'aachen'], ['aachen', 'es', 'aquisgrán'], ['aachen', 'ja', 'アーヘン'], ['aachen', 'pt', 'aachen'], ['aachen', 'ru', 'ахен'], ['aachen', 'vi', 'aachen'], ['aachen', 'zh', '亚琛'], ['aalborg', 'ar', 'آلبورغ'], ['aalborg', 'de', 'aalborg'], ['aalborg', 'es', 'aalborg'], ['aalborg', 'fr', 'aalborg'], ['aalborg', 'ja', 'オールボー'], ['aalborg', 'pt', 'aalborg'], ['aalborg', 'ru', 'ольборг'], ['aalborg', 'vi', 'aalborg'], ['aalborg', 'zh', '奥尔堡'], ['aarhus', 'ar', 'آرهوس'], ['aarhus', 'de', 'aarhus'], ['aarhus', 'es', 'aarhus'], ['aarhus', 'fr', 'aarhus'], ['aarhus', 'ja', 'オーフス'], ['aarhus', 'pt', 'aarhus'], ['aarhus', 'ru', 'орхус'], ['aarhus', 'vi', 'aarhus'], ['aarhus', 'zh', '奥胡斯'], ['aaron', 'ar', 'هارون'], ['aaron', 'es', 'aarón'], ['aaron', 'ja', 'アロン'], ['aaron', 'pt', 'aarão'], ['aaron', 'ru', 'аарон'], ['aaron', 'vi', 'aaron'], ['aaron', 'zh', '亞倫'], ['aba', 'de', 'aba'], ['aba', 'es', 'aba'], ['aba', 'fr', 'aba'], ['aba', 'ja', 'aba'], ['aba', 'pt', 'aba'], ['aba', 'ru', 'аба'], ['aba', 'zh', '阿巴'], ['abad', 'de', 'abad'], ['abad', 'fr', 'abad'], ['abad', 'pt', 'abad'], ['abad', 'ru', 'абад'], ['abandon', 'fr', 'abandon'], ['abandon', 'pt', 'abandono'], ['abbas', 'de', 'abbas'], ['abbas', 'es', 'abbas'], ['abbas', 'fr', 'abbas'], ['abbas', 'ja', 'アッバース'], ['abbas', 'ru', 'аббас'], ['abbas', 'zh', '阿拔斯'], ['abbasid', 'fr', 'abbassides'], ['abbasid', 'ru', 'аббасиды'], ['abbess', 'es', 'abadesa'], ['abbess', 'fr', 'abbesse'], ['abbess', 'ja', '女子修道院長'], ['abbess', 'pt', 'abadessa'], ['abbess', 'ru', 'аббатиса'], ['abbess', 'zh', '女隐修院院长'], ['abbey', 'de', 'abtei'], ['abbey', 'es', 'abadía'], ['abbey', 'fr', 'abbaye'], ['abbey', 'ja', '修道院'], ['abbey', 'pt', 'abadia'], ['abbey', 'ru', 'аббатство'], ['abbey', 'zh', '修道院'], ['abbot', 'de', 'abt'], ['abbot', 'es', 'abad'], ['abbot', 'fr', 'abbé'], ['abbot', 'ja', '修道院長'], ['abbot', 'pt', 'abade'], ['abbot', 'ru', 'аббат'], ['abbot', 'zh', '修道院长'], ['abbott', 'de', 'abbott'], ['abbott', 'fr', 'abbott'], ['abbott', 'ja', 'アボット'], ['abbott', 'pt', 'abbott'], ['abbott', 'ru', 'эбботт'], ['abbreviation', 'de', 'abkürzung'], ['abbreviation', 'es', 'abreviatura'], ['abbreviation', 'fr', 'abréviation'], ['abbreviation', 'ja', '略語'], ['abbreviation', 'pt', 'abreviatura'], ['abbreviation', 'ru', 'аббревиатура'], ['abbreviation', 'zh', '縮寫'], ['abdication', 'de', 'abdikation'], ['abdication', 'es', 'abdicación'], ['abdication', 'fr', 'abdication'], ['abdication', 'ja', '退位'], ['abdication', 'pt', 'abdicação'], ['abdication', 'ru', 'абдикация'], ['abdication', 'zh', '逊位']]\n"
          ],
          "name": "stdout"
        }
      ]
    },
    {
      "cell_type": "markdown",
      "metadata": {
        "colab_type": "text",
        "id": "bYEdOQbmwql3"
      },
      "source": [
        "**TODO**: Evaluate the English and French embeddings by computing the proportion of English Wikipedia articles whose corresponding French article is also the closest word in embedding space. Skip English articles not covered by the word embedding dictionary. Since many articles, e.g., about named entities have the same title in English and French, compute the baseline accuracy achieved by simply echoing the English title as if it were French. Remember to iterate only over English Wikipedia articles, not the entire embedding dictionary."
      ]
    },
    {
      "cell_type": "code",
      "metadata": {
        "id": "n3feYZvlx5hJ",
        "colab_type": "code",
        "colab": {}
      },
      "source": [
        "## TODO: Compute English-French Wikipedia retrieval accuracy.\n",
        "def calc_accuracy(links, lang_dict, lang):\n",
        "  accuracy = 0\n",
        "  baselineAccuracy = 0\n",
        "  count = 0\n",
        "  for (eng_word, t_lang, lang_word) in links:\n",
        "    if t_lang == lang and eng_word in envec:\n",
        "      count +=1\n",
        "      eng_vec = envec[eng_word]\n",
        "      most_similar, similarity = mostSimilar(eng_vec, lang_dict)\n",
        "      if most_similar==lang_word:\n",
        "        accuracy += 1\n",
        "      if eng_word==lang_word:\n",
        "        baselineAccuracy +=1\n",
        "  print(\"acc \",accuracy)\n",
        "  print(\"bacc \",baselineAccuracy)\n",
        "  print(\"count \",count)\n",
        "  accuracy = accuracy / count\n",
        "  baselineAccuracy = baselineAccuracy / count\n",
        "\n",
        "  return (accuracy, baselineAccuracy)"
      ],
      "execution_count": 0,
      "outputs": []
    },
    {
      "cell_type": "code",
      "metadata": {
        "id": "T2JbaXe41veC",
        "colab_type": "code",
        "colab": {
          "base_uri": "https://localhost:8080/",
          "height": 84
        },
        "outputId": "c815e62f-1311-4ece-f8f8-4648aa3a9460"
      },
      "source": [
        "accuracy, baselineAccuracy = calc_accuracy(links, frvec, \"fr\")\n",
        "print(accuracy, baselineAccuracy)"
      ],
      "execution_count": 16,
      "outputs": [
        {
          "output_type": "stream",
          "text": [
            "acc  5289\n",
            "bacc  6654\n",
            "count  9869\n",
            "0.5359205593271862 0.6742324450298915\n"
          ],
          "name": "stdout"
        }
      ]
    },
    {
      "cell_type": "markdown",
      "metadata": {
        "colab_type": "text",
        "id": "7hqd1buq-OEo"
      },
      "source": [
        "**TODO**: Compute accuracy and baseline (identity function) acccuracy for Englsih and another language besides French. Although the baseline will be lower for languages not written in the Roman alphabet (i.e., Arabic or Chinese), there are still many articles in those languages with headwords written in Roman characters."
      ]
    },
    {
      "cell_type": "code",
      "metadata": {
        "id": "MV66nVVYzpYB",
        "colab_type": "code",
        "colab": {
          "base_uri": "https://localhost:8080/",
          "height": 84
        },
        "outputId": "22033fe2-c08f-4cb5-9ccf-4663ed9e030b"
      },
      "source": [
        "accuracy, baselineAccuracy = calc_accuracy(links, esvec, \"es\")\n",
        "print(accuracy, baselineAccuracy)"
      ],
      "execution_count": 17,
      "outputs": [
        {
          "output_type": "stream",
          "text": [
            "acc  4355\n",
            "bacc  4147\n",
            "count  8016\n",
            "0.5432884231536926 0.5173403193612774\n"
          ],
          "name": "stdout"
        }
      ]
    },
    {
      "cell_type": "markdown",
      "metadata": {
        "colab_type": "text",
        "id": "E6z01sufFPJh"
      },
      "source": [
        "Further evaluation, if you are interested, could involve looking at the $k$ nearest neighbors of each English term to compute \"recall at 10\" or \"mean reciprocal rank at 10\"."
      ]
    },
    {
      "cell_type": "code",
      "metadata": {
        "id": "O-r6k_KRv4yA",
        "colab_type": "code",
        "colab": {}
      },
      "source": [
        "### The faster version is below"
      ],
      "execution_count": 0,
      "outputs": []
    },
    {
      "cell_type": "code",
      "metadata": {
        "id": "Vwi84GE9dy44",
        "colab_type": "code",
        "colab": {}
      },
      "source": [
        "def cosim_fast(v1, v2, v1_sqrt_sum_sq, v2_sqrt_sum_sq):\n",
        "  ## return cosine similarity between v1 and v2\n",
        "  num = np.dot(v1,v2)\n",
        "  sim = num / (v1_sqrt_sum_sq * v2_sqrt_sum_sq)\n",
        "  return sim"
      ],
      "execution_count": 0,
      "outputs": []
    },
    {
      "cell_type": "code",
      "metadata": {
        "id": "rkdFdoRsGro2",
        "colab_type": "code",
        "colab": {}
      },
      "source": [
        "def create_root_sq_sum_dict(dict_lang):\n",
        "  root_sq_sum_dict = dict()\n",
        "  for word, vec in dict_lang.items():\n",
        "    vec_sq = np.square(vec)\n",
        "    vec_sq_sum = np.sum(vec_sq)\n",
        "    vec_root_sq_sum = np.sqrt(vec_sq_sum)\n",
        "    root_sq_sum_dict[word] = vec_root_sq_sum\n",
        "  return root_sq_sum_dict"
      ],
      "execution_count": 0,
      "outputs": []
    },
    {
      "cell_type": "code",
      "metadata": {
        "colab_type": "code",
        "id": "gmdirYOjoSWV",
        "colab": {}
      },
      "source": [
        "## TODO: implement this search function\n",
        "def mostSimilar_fast(vec, vec_sqrt, vecDict, map_vec2_sqrt):\n",
        "  ## Use your cosim function from above\n",
        "  max = 0;\n",
        "  mostSimilar = ''\n",
        "  for word,vec2 in vecDict.items():\n",
        "    sim = cosim_fast(vec, vec2, vec_sqrt, map_vec2_sqrt[word])\n",
        "    if sim>max:\n",
        "      max = sim\n",
        "      mostSimilar = word\n",
        "  similarity = max\n",
        "  return (mostSimilar, similarity)"
      ],
      "execution_count": 0,
      "outputs": []
    },
    {
      "cell_type": "code",
      "metadata": {
        "colab_type": "code",
        "id": "RJrTJ3ja91Z4",
        "colab": {}
      },
      "source": [
        "## TODO: Compute English-French Wikipedia retrieval accuracy.\n",
        "def calc_accuracy_fast(links, eng_dict, lang_dict, sq_eng_dict, sq_lang_dict, lang):\n",
        "  accuracy = 0\n",
        "  baselineAccuracy = 0\n",
        "  count = 0\n",
        "  for (eng_word, t_lang, lang_word) in links:\n",
        "    if t_lang == lang and eng_word in envec:\n",
        "      count +=1\n",
        "      eng_vec = eng_dict[eng_word]\n",
        "      most_similar, similarity = mostSimilar_fast(eng_vec, sq_eng_dict[eng_word], lang_dict, sq_lang_dict )\n",
        "      if most_similar==lang_word:\n",
        "        accuracy += 1\n",
        "      if eng_word==lang_word:\n",
        "        baselineAccuracy +=1\n",
        "  print(\"acc \",accuracy)\n",
        "  print(\"bacc \",baselineAccuracy)\n",
        "  print(\"count \",count)\n",
        "  accuracy = accuracy / count\n",
        "  baselineAccuracy = baselineAccuracy / count\n",
        "  return (accuracy, baselineAccuracy)"
      ],
      "execution_count": 0,
      "outputs": []
    },
    {
      "cell_type": "code",
      "metadata": {
        "id": "JQqwD-c7SIjW",
        "colab_type": "code",
        "colab": {
          "base_uri": "https://localhost:8080/",
          "height": 84
        },
        "outputId": "156a2733-f88c-48c3-fa99-7ec161a4b611"
      },
      "source": [
        "envec_root_sq_sum_dict = create_root_sq_sum_dict(envec)\n",
        "frvec_root_sq_sum_dict = create_root_sq_sum_dict(frvec)\n",
        "accuracy, baselineAccuracy = calc_accuracy_fast(links, envec, frvec, envec_root_sq_sum_dict,  frvec_root_sq_sum_dict, \"fr\")\n",
        "print(accuracy, baselineAccuracy)"
      ],
      "execution_count": 26,
      "outputs": [
        {
          "output_type": "stream",
          "text": [
            "acc  5289\n",
            "bacc  6654\n",
            "count  9869\n",
            "0.5359205593271862 0.6742324450298915\n"
          ],
          "name": "stdout"
        }
      ]
    },
    {
      "cell_type": "code",
      "metadata": {
        "colab_type": "code",
        "id": "ZjnKtHya-jmj",
        "colab": {
          "base_uri": "https://localhost:8080/",
          "height": 84
        },
        "outputId": "8e0b696f-a49b-4b9f-e6f7-f08a4fd99c63"
      },
      "source": [
        "## TODO: Compute English-X Wikipedia retrieval accuracy.\n",
        "envec_root_sq_sum_dict = create_root_sq_sum_dict(envec)\n",
        "esvec_root_sq_sum_dict = create_root_sq_sum_dict(esvec)\n",
        "accuracy, baselineAccuracy = calc_accuracy_fast(links, envec, esvec, envec_root_sq_sum_dict,  esvec_root_sq_sum_dict, \"es\")\n",
        "print(accuracy, baselineAccuracy)"
      ],
      "execution_count": 27,
      "outputs": [
        {
          "output_type": "stream",
          "text": [
            "acc  4355\n",
            "bacc  4147\n",
            "count  8016\n",
            "0.5432884231536926 0.5173403193612774\n"
          ],
          "name": "stdout"
        }
      ]
    },
    {
      "cell_type": "code",
      "metadata": {
        "id": "BDTPNifA3vhY",
        "colab_type": "code",
        "colab": {}
      },
      "source": [
        ""
      ],
      "execution_count": 0,
      "outputs": []
    }
  ]
}