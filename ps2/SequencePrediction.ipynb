{
  "nbformat": 4,
  "nbformat_minor": 0,
  "metadata": {
    "accelerator": "GPU",
    "colab": {
      "name": "SequencePrediction.ipynb",
      "provenance": [],
      "collapsed_sections": [],
      "include_colab_link": true
    },
    "kernelspec": {
      "display_name": "Python 3",
      "language": "python",
      "name": "python3"
    },
    "language_info": {
      "codemirror_mode": {
        "name": "ipython",
        "version": 3
      },
      "file_extension": ".py",
      "mimetype": "text/x-python",
      "name": "python",
      "nbconvert_exporter": "python",
      "pygments_lexer": "ipython3",
      "version": "3.6.9"
    },
    "toc": {
      "colors": {
        "hover_highlight": "#DAA520",
        "running_highlight": "#FF0000",
        "selected_highlight": "#FFD700"
      },
      "moveMenuLeft": true,
      "nav_menu": {
        "height": "264px",
        "width": "252px"
      },
      "navigate_menu": true,
      "number_sections": true,
      "sideBar": true,
      "threshold": "5",
      "toc_cell": false,
      "toc_section_display": "block",
      "toc_window_display": false
    }
  },
  "cells": [
    {
      "cell_type": "markdown",
      "metadata": {
        "id": "view-in-github",
        "colab_type": "text"
      },
      "source": [
        "<a href=\"https://colab.research.google.com/github/NULabTMN/ps2-AnantShanbhag93/blob/master/SequencePrediction.ipynb\" target=\"_parent\"><img src=\"https://colab.research.google.com/assets/colab-badge.svg\" alt=\"Open In Colab\"/></a>"
      ]
    },
    {
      "cell_type": "markdown",
      "metadata": {
        "colab_type": "text",
        "id": "crOQ7QBjhrgV"
      },
      "source": [
        "# Sequence Prediction: Surname Generation"
      ]
    },
    {
      "cell_type": "markdown",
      "metadata": {
        "colab_type": "text",
        "id": "a7mWak9NZqsE"
      },
      "source": [
        "In this experiment, you will explore a simple sequence prediction task: Text generation using a Gated Recurrent Unit (GRU). Like the LSTM, this is a  gated recurrent neural network, but since it has fewer parameters, it should be more appropriate for a smaller dataset.\n",
        "\n",
        "The GRU computes a probability distribution over the set of possible characters in the surname vocabulary for each time step. We use these probability distributions to generate new surnames. You are given a starter code, that trains a SurnameGenerationModel on the [surname dataset](https://github.com/jasoriya/CS6120-PS2-support/blob/master/data/surnames/surnames_with_splits.csv) to generate new surnames by learning from the training data. \n",
        "\n"
      ]
    },
    {
      "cell_type": "markdown",
      "metadata": {
        "colab_type": "text",
        "id": "TJkLtjvSaf5P"
      },
      "source": [
        "Your task is to understand this code and plot the over all perplxity of GRU model as a function of the hidden representation size (K) and the number of characters already observed. You will see **TODO** prompts in the following cells"
      ]
    },
    {
      "cell_type": "markdown",
      "metadata": {
        "colab_type": "text",
        "id": "YEjYmZ5Shrgb"
      },
      "source": [
        "## Imports"
      ]
    },
    {
      "cell_type": "code",
      "metadata": {
        "colab_type": "code",
        "id": "DIbXsKQLhrgd",
        "colab": {}
      },
      "source": [
        "import os\n",
        "from argparse import Namespace\n",
        "\n",
        "import numpy as np\n",
        "import httpimport\n",
        "import torch\n",
        "import torch.optim as optim\n",
        "from tqdm import tqdm_notebook\n",
        "import matplotlib.pyplot as plt\n",
        "\n",
        "# import data preprocessing and modeling functions from https://github.com/jasoriya/CS6120-PS2-support/tree/master/utils\n",
        "with httpimport.remote_repo(['data_vectorization','model','helper'], 'https://raw.githubusercontent.com/jasoriya/CS6120-PS2-support/master/utils/'):\n",
        "  from data_vectorization import Vocabulary, SequenceVocabulary, SurnameVectorizer, SurnameDataset, generate_batches\n",
        "  from model import SurnameGenerationModel, sample_from_model, decode_samples\n",
        "  from helper import make_train_state, update_train_state, normalize_sizes, compute_accuracy, sequence_loss, set_seed_everywhere, handle_dirs\n"
      ],
      "execution_count": 0,
      "outputs": []
    },
    {
      "cell_type": "markdown",
      "metadata": {
        "colab_type": "text",
        "id": "rwQ3H6hhhrhM"
      },
      "source": [
        "### Settings and some prep work\n",
        "\n",
        "**TODO**: \n",
        "- Give path to a directory where the model should be saved\n",
        "- Give hidden state size (`rnn_hidden_size`) for the GRU model (experiment with different levels)\n"
      ]
    },
    {
      "cell_type": "code",
      "metadata": {
        "id": "UyKzaedsSmv7",
        "colab_type": "code",
        "colab": {}
      },
      "source": [
        "rnn_sizes = [2, 4, 7, 9, 13, 15, 19]\n",
        "rnn_index = 0"
      ],
      "execution_count": 0,
      "outputs": []
    },
    {
      "cell_type": "code",
      "metadata": {
        "colab_type": "code",
        "id": "B6ELbWoHhrhN",
        "colab": {}
      },
      "source": [
        "args = Namespace(\n",
        "    # Data and Path information\n",
        "    surname_csv=\"https://raw.githubusercontent.com/jasoriya/CS6120-PS2-support/master/data/surnames/surnames_with_splits.csv\",\n",
        "    vectorizer_file=\"vectorizer.json\",\n",
        "    model_state_file=\"model.pth\",\n",
        "    save_dir= \"./model\", # give path here\n",
        "    # Model hyper parameters\n",
        "    char_embedding_size=32,\n",
        "    rnn_hidden_size= rnn_sizes[rnn_index], # give hidden size\n",
        "    # Training hyper parameters\n",
        "    seed=1337,\n",
        "    learning_rate=0.001,\n",
        "    batch_size=128,\n",
        "    num_epochs=100,\n",
        "    early_stopping_criteria=5,\n",
        "    # Runtime options\n",
        "    catch_keyboard_interrupt=True,\n",
        "    cuda=True,\n",
        "    expand_filepaths_to_save_dir=True,\n",
        "    reload_from_files=False,\n",
        ")\n",
        "\n",
        "if args.expand_filepaths_to_save_dir:\n",
        "    args.vectorizer_file = os.path.join(args.save_dir,\n",
        "                                        args.vectorizer_file)\n",
        "\n",
        "    args.model_state_file = os.path.join(args.save_dir,\n",
        "                                         args.model_state_file)\n",
        "    \n",
        "    print(\"Expanded filepaths: \")\n",
        "    print(\"\\t{}\".format(args.vectorizer_file))\n",
        "    print(\"\\t{}\".format(args.model_state_file))\n",
        "    \n",
        "    \n",
        "# Check CUDA\n",
        "if not torch.cuda.is_available():\n",
        "    args.cuda = False\n",
        "\n",
        "args.device = torch.device(\"cuda\" if args.cuda else \"cpu\")\n",
        "    \n",
        "print(\"Using CUDA: {}\".format(args.cuda))\n",
        "\n",
        "# Set seed for reproducibility\n",
        "set_seed_everywhere(args.seed, args.cuda)\n",
        "\n",
        "# handle dirs\n",
        "handle_dirs(args.save_dir)"
      ],
      "execution_count": 0,
      "outputs": []
    },
    {
      "cell_type": "markdown",
      "metadata": {
        "colab_type": "text",
        "id": "eK7rHgKPhrhS"
      },
      "source": [
        "### Initializations"
      ]
    },
    {
      "cell_type": "code",
      "metadata": {
        "colab_type": "code",
        "id": "0zdUk04AhrhT",
        "colab": {}
      },
      "source": [
        "if args.reload_from_files:\n",
        "    # training from a checkpoint\n",
        "    dataset = SurnameDataset.load_dataset_and_load_vectorizer(args.surname_csv,\n",
        "                                                              args.vectorizer_file)\n",
        "else:\n",
        "    # create dataset and vectorizer\n",
        "    dataset = SurnameDataset.load_dataset_and_make_vectorizer(args.surname_csv)\n",
        "    dataset.save_vectorizer(args.vectorizer_file)\n",
        "\n",
        "vectorizer = dataset.get_vectorizer()\n",
        "\n",
        "model = SurnameGenerationModel(char_embedding_size=args.char_embedding_size,\n",
        "                               char_vocab_size=len(vectorizer.char_vocab),\n",
        "                               rnn_hidden_size=args.rnn_hidden_size,\n",
        "                               padding_idx=vectorizer.char_vocab.mask_index)"
      ],
      "execution_count": 0,
      "outputs": []
    },
    {
      "cell_type": "code",
      "metadata": {
        "colab_type": "code",
        "id": "nM9miG3Hl_kJ",
        "colab": {}
      },
      "source": [
        "print(vectorizer)"
      ],
      "execution_count": 0,
      "outputs": []
    },
    {
      "cell_type": "markdown",
      "metadata": {
        "colab_type": "text",
        "id": "Wy5dwODVhrhX"
      },
      "source": [
        "### Training loop"
      ]
    },
    {
      "cell_type": "code",
      "metadata": {
        "code_folding": [],
        "colab_type": "code",
        "id": "jIr6FBQWhrhY",
        "colab": {}
      },
      "source": [
        "mask_index = vectorizer.char_vocab.mask_index\n",
        "\n",
        "model = model.to(args.device)\n",
        "\n",
        "\n",
        "optimizer = optim.Adam(model.parameters(), lr=args.learning_rate)\n",
        "scheduler = optim.lr_scheduler.ReduceLROnPlateau(optimizer=optimizer,\n",
        "                                           mode='min', factor=0.5,\n",
        "                                           patience=1)\n",
        "train_state = make_train_state(args)\n",
        "\n",
        "epoch_bar = tqdm_notebook(desc='training routine', \n",
        "                          total=args.num_epochs,\n",
        "                          position=0)\n",
        "\n",
        "dataset.set_split('train')\n",
        "train_bar = tqdm_notebook(desc='split=train',\n",
        "                          total=dataset.get_num_batches(args.batch_size), \n",
        "                          position=1, \n",
        "                          leave=True)\n",
        "dataset.set_split('val')\n",
        "val_bar = tqdm_notebook(desc='split=val',\n",
        "                        total=dataset.get_num_batches(args.batch_size), \n",
        "                        position=1, \n",
        "                        leave=True)\n",
        "\n",
        "try:\n",
        "    for epoch_index in range(args.num_epochs):\n",
        "        train_state['epoch_index'] = epoch_index\n",
        "        \n",
        "        # Iterate over training dataset\n",
        "\n",
        "        # setup: batch generator, set loss and acc to 0, set train mode on\n",
        "        dataset.set_split('train')\n",
        "        batch_generator = generate_batches(dataset, \n",
        "                                           batch_size=args.batch_size, \n",
        "                                           device=args.device)\n",
        "        running_loss = 0.0\n",
        "        running_acc = 0.0\n",
        "        model.train()\n",
        "        \n",
        "        for batch_index, batch_dict in enumerate(batch_generator):\n",
        "            # the training routine is these 5 steps:\n",
        "\n",
        "            # --------------------------------------    \n",
        "            # step 1. zero the gradients\n",
        "            optimizer.zero_grad()\n",
        "\n",
        "            # step 2. compute the output\n",
        "            y_pred = model(x_in=batch_dict['x_data'])\n",
        "\n",
        "            # step 3. compute the loss\n",
        "            loss = sequence_loss(y_pred, batch_dict['y_target'], mask_index)\n",
        "\n",
        "\n",
        "            # step 4. use loss to produce gradients\n",
        "            loss.backward()\n",
        "\n",
        "            # step 5. use optimizer to take gradient step\n",
        "            optimizer.step()\n",
        "            # -----------------------------------------\n",
        "            # compute the  running loss and running accuracy\n",
        "            running_loss += (loss.item() - running_loss) / (batch_index + 1)\n",
        "            acc_t = compute_accuracy(y_pred, batch_dict['y_target'], mask_index)\n",
        "            running_acc += (acc_t - running_acc) / (batch_index + 1)\n",
        "\n",
        "            # update bar\n",
        "            train_bar.set_postfix(loss=running_loss,\n",
        "                                  acc=running_acc,\n",
        "                                  epoch=epoch_index)\n",
        "            train_bar.update()\n",
        "        \n",
        "        train_state['train_loss'].append(running_loss)\n",
        "        train_state['train_acc'].append(running_acc)\n",
        "\n",
        "        # Iterate over val dataset\n",
        "\n",
        "        # setup: batch generator, set loss and acc to 0; set eval mode on\n",
        "        dataset.set_split('val')\n",
        "        batch_generator = generate_batches(dataset, \n",
        "                                           batch_size=args.batch_size, \n",
        "                                           device=args.device)\n",
        "        running_loss = 0.\n",
        "        running_acc = 0.\n",
        "        model.eval()\n",
        "\n",
        "        for batch_index, batch_dict in enumerate(batch_generator):\n",
        "            # compute the output\n",
        "            y_pred = model(x_in=batch_dict['x_data'])\n",
        "\n",
        "            # step 3. compute the loss\n",
        "            loss = sequence_loss(y_pred, batch_dict['y_target'], mask_index)\n",
        "\n",
        "            # compute the  running loss and running accuracy\n",
        "            running_loss += (loss.item() - running_loss) / (batch_index + 1)\n",
        "            acc_t = compute_accuracy(y_pred, batch_dict['y_target'], mask_index)\n",
        "            running_acc += (acc_t - running_acc) / (batch_index + 1)\n",
        "            \n",
        "            # Update bar\n",
        "            val_bar.set_postfix(loss=running_loss, acc=running_acc, \n",
        "                            epoch=epoch_index)\n",
        "            val_bar.update()\n",
        "\n",
        "        train_state['val_loss'].append(running_loss)\n",
        "        train_state['val_acc'].append(running_acc)\n",
        "\n",
        "        train_state = update_train_state(args=args, model=model, \n",
        "                                         train_state=train_state)\n",
        "\n",
        "        scheduler.step(train_state['val_loss'][-1])\n",
        "\n",
        "        if train_state['stop_early']:\n",
        "            break\n",
        "        \n",
        "        # move model to cpu for sampling\n",
        "        model = model.cpu()\n",
        "        sampled_surnames = decode_samples(\n",
        "            sample_from_model(model, vectorizer, num_samples=2), \n",
        "            vectorizer)\n",
        "        epoch_bar.set_postfix(sample1=sampled_surnames[0], \n",
        "                              sample2=sampled_surnames[1])\n",
        "        # move model back to whichever device it should be on\n",
        "        model = model.to(args.device)\n",
        "        \n",
        "        train_bar.n = 0\n",
        "        val_bar.n = 0\n",
        "        epoch_bar.update()\n",
        "        \n",
        "except KeyboardInterrupt:\n",
        "    print(\"Exiting loop\")"
      ],
      "execution_count": 0,
      "outputs": []
    },
    {
      "cell_type": "code",
      "metadata": {
        "colab_type": "code",
        "id": "T1pV10L3hrhc",
        "colab": {}
      },
      "source": [
        "np.random.choice(np.arange(len(vectorizer.nationality_vocab)), replace=True, size=2)"
      ],
      "execution_count": 0,
      "outputs": []
    },
    {
      "cell_type": "code",
      "metadata": {
        "colab_type": "code",
        "id": "crgnIUPghrhg",
        "colab": {}
      },
      "source": [
        "# compute the loss & accuracy on the test set using the best available model\n",
        "\n",
        "model.load_state_dict(torch.load(train_state['model_filename']))\n",
        "\n",
        "model = model.to(args.device)\n",
        "\n",
        "dataset.set_split('test')\n",
        "batch_generator = generate_batches(dataset, \n",
        "                                   batch_size=args.batch_size, \n",
        "                                   device=args.device)\n",
        "running_acc = 0.\n",
        "model.eval()\n",
        "\n",
        "for batch_index, batch_dict in enumerate(batch_generator):\n",
        "    # compute the output\n",
        "    y_pred = model(x_in=batch_dict['x_data'])\n",
        "    \n",
        "    # compute the loss\n",
        "    loss = sequence_loss(y_pred, batch_dict['y_target'], mask_index)\n",
        "    \n",
        "    # compute the accuracy\n",
        "    running_loss += (loss.item() - running_loss) / (batch_index + 1)\n",
        "\n",
        "    acc_t = compute_accuracy(y_pred, batch_dict['y_target'], mask_index)\n",
        "    running_acc += (acc_t - running_acc) / (batch_index + 1)\n",
        "\n",
        "train_state['test_loss'] = running_loss \n",
        "train_state['test_acc'] = running_acc "
      ],
      "execution_count": 0,
      "outputs": []
    },
    {
      "cell_type": "markdown",
      "metadata": {
        "colab_type": "text",
        "id": "ldfJK8jBgbnT"
      },
      "source": [
        "**TODO**: Write code to compute the perplexity of the whole text corpus, the accuracy of a character-prediction task, and the perplexity at a given character position (1, 2, 3, ...)."
      ]
    },
    {
      "cell_type": "code",
      "metadata": {
        "colab_type": "code",
        "id": "yfzssGYjhrhj",
        "colab": {}
      },
      "source": [
        "print(\"Test loss: {};\".format(train_state['test_loss']))\n",
        "print(\"Test perplexity: {};\".format(2**train_state['test_loss'])) # compute and print perplexity here\n",
        "# total perplexity\n",
        "train_perplexity = 2**train_state['train_loss'][-1]\n",
        "val_perplexity = 2**train_state['val_loss'][-1]\n",
        "test_perplexity = 2**train_state['test_loss']\n",
        "avg_perplexity_whole_text = (train_perplexity + val_perplexity + test_perplexity) / 3\n",
        "print(\"Perplexity of the whole text corpus: {}\".format(avg_perplexity_whole_text))\n",
        "print(\"Test Accuracy: {}\".format(train_state['test_acc']))\n",
        "\n"
      ],
      "execution_count": 0,
      "outputs": []
    },
    {
      "cell_type": "code",
      "metadata": {
        "id": "ay9jrxrYSmwU",
        "colab_type": "code",
        "colab": {}
      },
      "source": [
        "torch.save(model, args.save_dir+'/model'+str(args.rnn_hidden_size))\n",
        "rnn_index = rnn_index + 1\n",
        "if rnn_index==7:\n",
        "    print(\"completed 7 moedls with rnn sizes [2, 4, 7, 9, 13, 15, 19] \")"
      ],
      "execution_count": 0,
      "outputs": []
    },
    {
      "cell_type": "markdown",
      "metadata": {
        "id": "-DvZ0meISmwW",
        "colab_type": "text"
      },
      "source": [
        "### Re-run from second cell, for all remaining hidden sizes"
      ]
    },
    {
      "cell_type": "code",
      "metadata": {
        "colab_type": "code",
        "id": "4KBLIrYALH4_",
        "colab": {}
      },
      "source": [
        ""
      ],
      "execution_count": 0,
      "outputs": []
    },
    {
      "cell_type": "markdown",
      "metadata": {
        "colab_type": "text",
        "id": "2FCywMZ6hrhm"
      },
      "source": [
        "## Inference\n",
        "To see the names that the model generates:"
      ]
    },
    {
      "cell_type": "code",
      "metadata": {
        "colab_type": "code",
        "id": "jTbrH4dBhrho",
        "outputId": "0a2d0306-570d-4694-97af-458439b57b62",
        "colab": {
          "base_uri": "https://localhost:8080/",
          "height": 202
        }
      },
      "source": [
        "# number of names to generate\n",
        "num_names = 10\n",
        "model = model.cpu()\n",
        "# Generate nationality hidden state\n",
        "sampled_surnames = decode_samples(\n",
        "    sample_from_model(model, vectorizer, num_samples=num_names), \n",
        "    vectorizer)\n",
        "# Show results\n",
        "print (\"-\"*15)\n",
        "for i in range(num_names):\n",
        "    print (sampled_surnames[i])"
      ],
      "execution_count": 0,
      "outputs": [
        {
          "output_type": "stream",
          "text": [
            "---------------\n",
            "Wakyi\n",
            "Lagrl\n",
            "Alshervan\n",
            "Kardoro\n",
            "Adrifiuky\n",
            "Bynlemtcha\n",
            "Kacroce\n",
            "Alrdetka\n",
            "Bav\n",
            "Moiblev\n"
          ],
          "name": "stdout"
        }
      ]
    },
    {
      "cell_type": "markdown",
      "metadata": {
        "colab_type": "text",
        "id": "cjgqHfp7ggAj"
      },
      "source": [
        "**TODO**: Train the GRU model given above multiple times for different levels of `rnn_hidden_size`. For each of these models, plot the average perplexity as a function of the number of characters of the name observed so far. Explain your observations."
      ]
    },
    {
      "cell_type": "code",
      "metadata": {
        "colab_type": "code",
        "id": "Oa9IMxsYIvTH",
        "colab": {}
      },
      "source": [
        "\n",
        "def get_perplexities_charwise(rnn_model):\n",
        "    dataset.set_split('test')\n",
        "    batch_generator = generate_batches(dataset, \n",
        "                                       batch_size=1, \n",
        "                                       device=args.device)\n",
        "    list_all_perplexities_charwise = []\n",
        "    for batch_index, batch_dict in enumerate(batch_generator):\n",
        "        x_each_example = torch.zeros((1,19), dtype=torch.int64)\n",
        "        ypred_each_example = torch.zeros((1,19), dtype=torch.int64)\n",
        "        list_pp_charwise_each_example = []\n",
        "        # print(x_each_example)\n",
        "        for i in range(19):\n",
        "          x_each_example[0][i] = batch_dict['x_data'][0][i]\n",
        "          ypred_each_example[0][i] = batch_dict['y_target'][0][i]\n",
        "          y_pred = rnn_model(x_in=x_each_example.cuda())\n",
        "          loss = sequence_loss(y_pred, ypred_each_example.cuda(), mask_index)\n",
        "          acc_t = compute_accuracy(y_pred, ypred_each_example.cuda(), mask_index)\n",
        "          perplexity = 2 ** loss.item()\n",
        "          list_pp_charwise_each_example.append(perplexity)\n",
        "        list_all_perplexities_charwise.append( list_pp_charwise_each_example)\n",
        "        \n",
        "    size_examples = len(list_all_perplexities_charwise)\n",
        "    all_perplexities = np.array(list_all_perplexities_charwise)\n",
        "    average_perplexities = np.sum(list_all_perplexities_charwise, axis=0)\n",
        "    average_perplexities = average_perplexities/size_examples\n",
        "    \n",
        "    return average_perplexities\n",
        "    "
      ],
      "execution_count": 0,
      "outputs": []
    },
    {
      "cell_type": "code",
      "metadata": {
        "id": "yGfgp_UpSmwi",
        "colab_type": "code",
        "colab": {},
        "outputId": "fcd201ef-8cf3-46e1-866c-f1bfc4c7ea4d"
      },
      "source": [
        "list_all_perplexities_for_diff_rnn = []\n",
        "for i in rnn_sizes:\n",
        "    model_path = args.save_dir+'/model'+str(i)\n",
        "    print(model_path)\n",
        "    rnn_model = torch.load(model_path)\n",
        "    rnn_model.eval()\n",
        "    list_all_perplexities_for_diff_rnn.append(get_perplexities_charwise(rnn_model))\n",
        "    \n",
        "    "
      ],
      "execution_count": 0,
      "outputs": [
        {
          "output_type": "stream",
          "text": [
            "./model/model2\n",
            "./model/model4\n",
            "./model/model7\n",
            "./model/model9\n",
            "./model/model13\n",
            "./model/model15\n",
            "./model/model19\n"
          ],
          "name": "stdout"
        }
      ]
    },
    {
      "cell_type": "code",
      "metadata": {
        "id": "jSQGXp08Smwl",
        "colab_type": "code",
        "colab": {}
      },
      "source": [
        "\n",
        "characters = np.arange(start=1, stop=20, step=1)\n"
      ],
      "execution_count": 0,
      "outputs": []
    },
    {
      "cell_type": "code",
      "metadata": {
        "id": "xjynqmvoSmwn",
        "colab_type": "code",
        "colab": {},
        "outputId": "0ed5997d-868d-4ba9-ff7a-7286589a7e07"
      },
      "source": [
        "plt.xlabel('charcters seen so far')\n",
        "plt.ylabel('perplexities')\n",
        "plt.title('Plot for all hidden sizes')\n",
        "for i in range(len(rnn_sizes)):\n",
        "    plt.plot(characters, list_all_perplexities_for_diff_rnn[i], label = 'hidden size'+str(rnn_sizes[i]))\n",
        "    \n",
        "plt.grid()\n",
        "plt.xticks(np.arange(min(characters), max(characters)+1, 1.0))\n",
        "plt.legend()\n",
        "plt.savefig(\"plot_for_RNNAll1.png\")\n",
        "plt.show()\n"
      ],
      "execution_count": 0,
      "outputs": [
        {
          "output_type": "display_data",
          "data": {
            "image/png": "[encoded data removed]",
            "text/plain": [
              "<Figure size 432x288 with 1 Axes>"
            ]
          },
          "metadata": {
            "tags": [],
            "needs_background": "light"
          }
        }
      ]
    },
    {
      "cell_type": "markdown",
      "metadata": {
        "id": "HTw0xk2cSmwp",
        "colab_type": "text"
      },
      "source": [
        "### Observations:\n",
        "\n",
        "I have tried running the experiment for Rnn sizes : [2, 4, 7, 9, 13, 15, 19].\n",
        "\n",
        "Observation 1 :\n",
        "As we see more characters, the perplexities reduce i.e the perplexity for a name till character i is greater than the perplexity till i+1. The perplexity decreases as we see more characters. Take for example surname : \"Mathur\". The perplexity till character 't' is greater than the perplexity till character 'h'. While predicting for the character 't' the seen characters are 'M' and 'a' and while predicting character 'h', the seen characters are 'M' , 'a', 't'. In the latter case the randomness is lesser compared to the former one. This is because as the RNN has seen more chracters, the randomness in selecting the next character reduces, hence the perplexity also reduces as the RNN sees more and more preceding characters.\n",
        "\n",
        "Observation 2:\n",
        "With increase in RNN sizes, the perplexities decrease. The perplexities calculated for the testset using RNN size 19 gives lessser values than the RNN with size 15 or 9 or 2. As the RNN size increases more information is learned, so the randomness in predicting the next character reduces. \n",
        "\n"
      ]
    },
    {
      "cell_type": "code",
      "metadata": {
        "id": "vuVjAPUbSmwq",
        "colab_type": "code",
        "colab": {}
      },
      "source": [
        ""
      ],
      "execution_count": 0,
      "outputs": []
    }
  ]
}