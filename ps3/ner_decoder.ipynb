{
  "nbformat": 4,
  "nbformat_minor": 0,
  "metadata": {
    "accelerator": "GPU",
    "colab": {
      "name": "ner_decoder.ipynb",
      "provenance": [],
      "collapsed_sections": [],
      "include_colab_link": true
    },
    "kernelspec": {
      "display_name": "Python 3",
      "language": "python",
      "name": "python3"
    },
    "language_info": {
      "codemirror_mode": {
        "name": "ipython",
        "version": 3
      },
      "file_extension": ".py",
      "mimetype": "text/x-python",
      "name": "python",
      "nbconvert_exporter": "python",
      "pygments_lexer": "ipython3",
      "version": "3.6.9"
    }
  },
  "cells": [
    {
      "cell_type": "markdown",
      "metadata": {
        "id": "view-in-github",
        "colab_type": "text"
      },
      "source": [
        "<a href=\"https://colab.research.google.com/github/NULabTMN/ps3-AnantShanbhag93/blob/master/ner_decoder.ipynb\" target=\"_parent\"><img src=\"https://colab.research.google.com/assets/colab-badge.svg\" alt=\"Open In Colab\"/></a>"
      ]
    },
    {
      "cell_type": "markdown",
      "metadata": {
        "colab_type": "text",
        "id": "IsY0LJOIT_cG"
      },
      "source": [
        "# Implementing a Viterbi Decoder and Evaluation for Sequence Labeling\n",
        "\n",
        "In this assignment, you will build a Viterbi decoder for an LSTM named-entity recognition model. As we mentioned in class, recurrent and bidirectional recurrent neural networks, of which LSTMs are the most common examples, can be used to perform sequence labeling. Although these models encode information from the surrounding words in order to make predictions, there are no \"hard\" constraints on what tags can appear where.\n",
        "\n",
        "There hard constraints are particularly important for tasks that label spans of more than one token. The most common example of a span-labeling task is named-entity recognition (NER). As described in Eisenstein, Jurafksy & Martin, and other texts, the goal of NER is to label spans of one or more words as _mentions_ of an _entity_, such as a person, location, organization, etc.\n",
        "\n",
        "The most common approach to NER is to reduce it to a sequence-labeling task, where each token in the input is labeled either with an `O`, if it is \"outside\" any named-entity span, or with `B-TYPE`, if it is the first token in an entity of type `TYPE`, or with `I-TYPE`, if it is the second or later token in an entity of type `TYPE`. Distinguishing between the first and later tokens of an entity allow us to identify distinct entity spans even when they are adjacent.\n",
        "\n",
        "Common values of `TYPE` include `PER` for person, `LOC` for location, `DATE` for date, and so on. In the dataset we load below, there are 17 distinct types.\n",
        "\n",
        "The span-labeling scheme just described implies that the labels on tokens must obey certain constraints: the tag `I-PER` must follow either `B-PER` or another `I-PER`. I cannot follow `O`, `B-LOC`, or `I-LOC`, i.e., a tag for a different entity type. By themselves, LSTMs or bidirectional LSTMs cannot directly enforce these constraints. This is one reason why conditional random fields (CRFs), which _can_ enforce these constraints, are often layered on top of these recurrent models.\n",
        "\n",
        "In this assignment, you will implement the simplest possible CRF: a CRF so simple that it does not require any training. Rather, it will assign weight 1 to any sequence of tags that obeys the constraints and weight 0 to any sequence of tags that violates them. The inputs to the CRF, which are analogous to the emission probabilities in an HMM, will come from an LSTM.\n",
        "\n",
        "But first, in order to test your decoder, you will also implement some functions to evaluate the output of an NER system according to two metrics:\n",
        "1. You will count the number of _violations_ of the NER label constraints, i.e., how many times `I-TYPE` follows `O` or a tag of a different type. This number will be greater than 0 in the raw LSTM output, but should be 0 for your CRF output.\n",
        "1. You will compute the _span-level_ precision, recall, and F1 of NER output. Although the baseline LSTM was trained to achieve high _token-level_ accuracy, this metric can be misleadingly high, since so many tokens are correctly labeled `O`. In other words, what proportion of spans predicted by the model line up exactly with spans in the gold standard, and what proportion of spans in the gold standard were predicted by the model? For more, see the original task definition: https://www.aclweb.org/anthology/W03-0419/.\n",
        "\n",
        "We start with loading some code and data and the describe your tasks in more detail."
      ]
    },
    {
      "cell_type": "markdown",
      "metadata": {
        "colab_type": "text",
        "id": "Dhnn49QEU_Ik"
      },
      "source": [
        "## Set Up Dependencies and Definitions"
      ]
    },
    {
      "cell_type": "code",
      "metadata": {
        "colab_type": "code",
        "id": "QJINX1MwOLBT",
        "colab": {},
        "outputId": "f00ca11e-ac78-4cf8-b60d-c8d38a15815d"
      },
      "source": [
        "!pip install --upgrade spacy allennlp\n",
        "import spacy\n",
        "print(spacy.__version__)"
      ],
      "execution_count": 0,
      "outputs": [
        {
          "output_type": "stream",
          "text": [
            "Requirement already up-to-date: spacy in c:\\users\\shanb\\anaconda3\\envs\\envpytorchcudapy36\\lib\\site-packages (2.2.4)\n",
            "Requirement already up-to-date: allennlp in c:\\users\\shanb\\anaconda3\\envs\\envpytorchcudapy36\\lib\\site-packages (0.9.0)\n",
            "Requirement already satisfied, skipping upgrade: blis<0.5.0,>=0.4.0 in c:\\users\\shanb\\anaconda3\\envs\\envpytorchcudapy36\\lib\\site-packages (from spacy) (0.4.1)\n",
            "Requirement already satisfied, skipping upgrade: murmurhash<1.1.0,>=0.28.0 in c:\\users\\shanb\\anaconda3\\envs\\envpytorchcudapy36\\lib\\site-packages (from spacy) (1.0.2)\n",
            "Requirement already satisfied, skipping upgrade: srsly<1.1.0,>=1.0.2 in c:\\users\\shanb\\anaconda3\\envs\\envpytorchcudapy36\\lib\\site-packages (from spacy) (1.0.2)\n",
            "Requirement already satisfied, skipping upgrade: catalogue<1.1.0,>=0.0.7 in c:\\users\\shanb\\anaconda3\\envs\\envpytorchcudapy36\\lib\\site-packages (from spacy) (1.0.0)\n",
            "Requirement already satisfied, skipping upgrade: thinc==7.4.0 in c:\\users\\shanb\\anaconda3\\envs\\envpytorchcudapy36\\lib\\site-packages (from spacy) (7.4.0)\n",
            "Requirement already satisfied, skipping upgrade: cymem<2.1.0,>=2.0.2 in c:\\users\\shanb\\anaconda3\\envs\\envpytorchcudapy36\\lib\\site-packages (from spacy) (2.0.3)\n",
            "Requirement already satisfied, skipping upgrade: preshed<3.1.0,>=3.0.2 in c:\\users\\shanb\\anaconda3\\envs\\envpytorchcudapy36\\lib\\site-packages (from spacy) (3.0.2)\n",
            "Requirement already satisfied, skipping upgrade: wasabi<1.1.0,>=0.4.0 in c:\\users\\shanb\\anaconda3\\envs\\envpytorchcudapy36\\lib\\site-packages (from spacy) (0.6.0)\n",
            "Requirement already satisfied, skipping upgrade: setuptools in c:\\users\\shanb\\anaconda3\\envs\\envpytorchcudapy36\\lib\\site-packages (from spacy) (41.6.0.post20191030)\n",
            "Requirement already satisfied, skipping upgrade: plac<1.2.0,>=0.9.6 in c:\\users\\shanb\\anaconda3\\envs\\envpytorchcudapy36\\lib\\site-packages (from spacy) (1.1.3)\n",
            "Requirement already satisfied, skipping upgrade: tqdm<5.0.0,>=4.38.0 in c:\\users\\shanb\\anaconda3\\envs\\envpytorchcudapy36\\lib\\site-packages (from spacy) (4.43.0)\n",
            "Requirement already satisfied, skipping upgrade: requests<3.0.0,>=2.13.0 in c:\\users\\shanb\\anaconda3\\envs\\envpytorchcudapy36\\lib\\site-packages (from spacy) (2.22.0)\n",
            "Requirement already satisfied, skipping upgrade: numpy>=1.15.0 in c:\\users\\shanb\\anaconda3\\envs\\envpytorchcudapy36\\lib\\site-packages (from spacy) (1.17.4)\n",
            "Requirement already satisfied, skipping upgrade: pytz>=2017.3 in c:\\users\\shanb\\anaconda3\\envs\\envpytorchcudapy36\\lib\\site-packages (from allennlp) (2019.3)\n",
            "Requirement already satisfied, skipping upgrade: flask-cors>=3.0.7 in c:\\users\\shanb\\anaconda3\\envs\\envpytorchcudapy36\\lib\\site-packages (from allennlp) (3.0.8)\n",
            "Requirement already satisfied, skipping upgrade: responses>=0.7 in c:\\users\\shanb\\anaconda3\\envs\\envpytorchcudapy36\\lib\\site-packages (from allennlp) (0.10.12)\n",
            "Requirement already satisfied, skipping upgrade: numpydoc>=0.8.0 in c:\\users\\shanb\\anaconda3\\envs\\envpytorchcudapy36\\lib\\site-packages (from allennlp) (0.9.2)\n",
            "Requirement already satisfied, skipping upgrade: nltk in c:\\users\\shanb\\anaconda3\\envs\\envpytorchcudapy36\\lib\\site-packages (from allennlp) (3.4.5)\n",
            "Requirement already satisfied, skipping upgrade: tensorboardX>=1.2 in c:\\users\\shanb\\anaconda3\\envs\\envpytorchcudapy36\\lib\\site-packages (from allennlp) (1.9)\n",
            "Requirement already satisfied, skipping upgrade: flaky in c:\\users\\shanb\\anaconda3\\envs\\envpytorchcudapy36\\lib\\site-packages (from allennlp) (3.6.1)\n",
            "Requirement already satisfied, skipping upgrade: pytest in c:\\users\\shanb\\anaconda3\\envs\\envpytorchcudapy36\\lib\\site-packages (from allennlp) (5.4.1)\n",
            "Requirement already satisfied, skipping upgrade: torch>=1.2.0 in c:\\users\\shanb\\anaconda3\\envs\\envpytorchcudapy36\\lib\\site-packages (from allennlp) (1.3.1)\n",
            "Requirement already satisfied, skipping upgrade: flask>=1.0.2 in c:\\users\\shanb\\anaconda3\\envs\\envpytorchcudapy36\\lib\\site-packages (from allennlp) (1.1.1)\n",
            "Requirement already satisfied, skipping upgrade: overrides in c:\\users\\shanb\\anaconda3\\envs\\envpytorchcudapy36\\lib\\site-packages (from allennlp) (2.8.0)\n",
            "Requirement already satisfied, skipping upgrade: pytorch-transformers==1.1.0 in c:\\users\\shanb\\anaconda3\\envs\\envpytorchcudapy36\\lib\\site-packages (from allennlp) (1.1.0)\n",
            "Requirement already satisfied, skipping upgrade: matplotlib>=2.2.3 in c:\\users\\shanb\\anaconda3\\envs\\envpytorchcudapy36\\lib\\site-packages (from allennlp) (3.1.1)\n",
            "Requirement already satisfied, skipping upgrade: boto3 in c:\\users\\shanb\\anaconda3\\envs\\envpytorchcudapy36\\lib\\site-packages (from allennlp) (1.12.30)\n",
            "Requirement already satisfied, skipping upgrade: editdistance in c:\\users\\shanb\\anaconda3\\envs\\envpytorchcudapy36\\lib\\site-packages (from allennlp) (0.5.3)\n",
            "Requirement already satisfied, skipping upgrade: sqlparse>=0.2.4 in c:\\users\\shanb\\anaconda3\\envs\\envpytorchcudapy36\\lib\\site-packages (from allennlp) (0.3.1)\n",
            "Requirement already satisfied, skipping upgrade: h5py in c:\\users\\shanb\\anaconda3\\envs\\envpytorchcudapy36\\lib\\site-packages (from allennlp) (2.10.0)\n",
            "Requirement already satisfied, skipping upgrade: ftfy in c:\\users\\shanb\\anaconda3\\envs\\envpytorchcudapy36\\lib\\site-packages (from allennlp) (5.7)\n",
            "Requirement already satisfied, skipping upgrade: unidecode in c:\\users\\shanb\\anaconda3\\envs\\envpytorchcudapy36\\lib\\site-packages (from allennlp) (1.1.1)\n",
            "Requirement already satisfied, skipping upgrade: conllu==1.3.1 in c:\\users\\shanb\\anaconda3\\envs\\envpytorchcudapy36\\lib\\site-packages (from allennlp) (1.3.1)\n",
            "Requirement already satisfied, skipping upgrade: jsonpickle in c:\\users\\shanb\\anaconda3\\envs\\envpytorchcudapy36\\lib\\site-packages (from allennlp) (1.3)\n",
            "Requirement already satisfied, skipping upgrade: scikit-learn in c:\\users\\shanb\\anaconda3\\envs\\envpytorchcudapy36\\lib\\site-packages (from allennlp) (0.22.1)\n",
            "Requirement already satisfied, skipping upgrade: parsimonious>=0.8.0 in c:\\users\\shanb\\anaconda3\\envs\\envpytorchcudapy36\\lib\\site-packages (from allennlp) (0.8.1)\n",
            "Requirement already satisfied, skipping upgrade: word2number>=1.1 in c:\\users\\shanb\\anaconda3\\envs\\envpytorchcudapy36\\lib\\site-packages (from allennlp) (1.1)\n",
            "Requirement already satisfied, skipping upgrade: pytorch-pretrained-bert>=0.6.0 in c:\\users\\shanb\\anaconda3\\envs\\envpytorchcudapy36\\lib\\site-packages (from allennlp) (0.6.2)\n",
            "Requirement already satisfied, skipping upgrade: gevent>=1.3.6 in c:\\users\\shanb\\anaconda3\\envs\\envpytorchcudapy36\\lib\\site-packages (from allennlp) (1.4.0)\n",
            "Requirement already satisfied, skipping upgrade: scipy in c:\\users\\shanb\\anaconda3\\envs\\envpytorchcudapy36\\lib\\site-packages (from allennlp) (1.4.1)\n",
            "Requirement already satisfied, skipping upgrade: importlib-metadata>=0.20; python_version < \"3.8\" in c:\\users\\shanb\\anaconda3\\envs\\envpytorchcudapy36\\lib\\site-packages (from catalogue<1.1.0,>=0.0.7->spacy) (0.23)\n",
            "Requirement already satisfied, skipping upgrade: urllib3!=1.25.0,!=1.25.1,<1.26,>=1.21.1 in c:\\users\\shanb\\anaconda3\\envs\\envpytorchcudapy36\\lib\\site-packages (from requests<3.0.0,>=2.13.0->spacy) (1.25.8)\n",
            "Requirement already satisfied, skipping upgrade: certifi>=2017.4.17 in c:\\users\\shanb\\anaconda3\\envs\\envpytorchcudapy36\\lib\\site-packages (from requests<3.0.0,>=2.13.0->spacy) (2019.9.11)\n",
            "Requirement already satisfied, skipping upgrade: idna<2.9,>=2.5 in c:\\users\\shanb\\anaconda3\\envs\\envpytorchcudapy36\\lib\\site-packages (from requests<3.0.0,>=2.13.0->spacy) (2.8)\n",
            "Requirement already satisfied, skipping upgrade: chardet<3.1.0,>=3.0.2 in c:\\users\\shanb\\anaconda3\\envs\\envpytorchcudapy36\\lib\\site-packages (from requests<3.0.0,>=2.13.0->spacy) (3.0.4)\n",
            "Requirement already satisfied, skipping upgrade: Six in c:\\users\\shanb\\anaconda3\\envs\\envpytorchcudapy36\\lib\\site-packages (from flask-cors>=3.0.7->allennlp) (1.13.0)\n",
            "Requirement already satisfied, skipping upgrade: sphinx>=1.6.5 in c:\\users\\shanb\\anaconda3\\envs\\envpytorchcudapy36\\lib\\site-packages (from numpydoc>=0.8.0->allennlp) (2.4.4)\n",
            "Requirement already satisfied, skipping upgrade: Jinja2>=2.3 in c:\\users\\shanb\\anaconda3\\envs\\envpytorchcudapy36\\lib\\site-packages (from numpydoc>=0.8.0->allennlp) (2.10.3)\n",
            "Requirement already satisfied, skipping upgrade: protobuf>=3.8.0 in c:\\users\\shanb\\anaconda3\\envs\\envpytorchcudapy36\\lib\\site-packages (from tensorboardX>=1.2->allennlp) (3.10.0)\n",
            "Requirement already satisfied, skipping upgrade: atomicwrites>=1.0; sys_platform == \"win32\" in c:\\users\\shanb\\anaconda3\\envs\\envpytorchcudapy36\\lib\\site-packages (from pytest->allennlp) (1.3.0)\n",
            "Requirement already satisfied, skipping upgrade: more-itertools>=4.0.0 in c:\\users\\shanb\\anaconda3\\envs\\envpytorchcudapy36\\lib\\site-packages (from pytest->allennlp) (7.2.0)\n",
            "Requirement already satisfied, skipping upgrade: packaging in c:\\users\\shanb\\anaconda3\\envs\\envpytorchcudapy36\\lib\\site-packages (from pytest->allennlp) (20.3)\n",
            "Requirement already satisfied, skipping upgrade: py>=1.5.0 in c:\\users\\shanb\\anaconda3\\envs\\envpytorchcudapy36\\lib\\site-packages (from pytest->allennlp) (1.8.1)\n",
            "Requirement already satisfied, skipping upgrade: pluggy<1.0,>=0.12 in c:\\users\\shanb\\anaconda3\\envs\\envpytorchcudapy36\\lib\\site-packages (from pytest->allennlp) (0.13.1)\n",
            "Requirement already satisfied, skipping upgrade: wcwidth in c:\\users\\shanb\\anaconda3\\envs\\envpytorchcudapy36\\lib\\site-packages (from pytest->allennlp) (0.1.7)\n",
            "Requirement already satisfied, skipping upgrade: attrs>=17.4.0 in c:\\users\\shanb\\anaconda3\\envs\\envpytorchcudapy36\\lib\\site-packages (from pytest->allennlp) (19.3.0)\n",
            "Requirement already satisfied, skipping upgrade: colorama; sys_platform == \"win32\" in c:\\users\\shanb\\anaconda3\\envs\\envpytorchcudapy36\\lib\\site-packages (from pytest->allennlp) (0.4.1)\n",
            "Requirement already satisfied, skipping upgrade: click>=5.1 in c:\\users\\shanb\\anaconda3\\envs\\envpytorchcudapy36\\lib\\site-packages (from flask>=1.0.2->allennlp) (7.0)\n",
            "Requirement already satisfied, skipping upgrade: Werkzeug>=0.15 in c:\\users\\shanb\\anaconda3\\envs\\envpytorchcudapy36\\lib\\site-packages (from flask>=1.0.2->allennlp) (0.16.0)\n",
            "Requirement already satisfied, skipping upgrade: itsdangerous>=0.24 in c:\\users\\shanb\\anaconda3\\envs\\envpytorchcudapy36\\lib\\site-packages (from flask>=1.0.2->allennlp) (1.1.0)\n",
            "Requirement already satisfied, skipping upgrade: regex in c:\\users\\shanb\\anaconda3\\envs\\envpytorchcudapy36\\lib\\site-packages (from pytorch-transformers==1.1.0->allennlp) (2020.2.20)\n",
            "Requirement already satisfied, skipping upgrade: sentencepiece in c:\\users\\shanb\\anaconda3\\envs\\envpytorchcudapy36\\lib\\site-packages (from pytorch-transformers==1.1.0->allennlp) (0.1.85)\n",
            "Requirement already satisfied, skipping upgrade: cycler>=0.10 in c:\\users\\shanb\\anaconda3\\envs\\envpytorchcudapy36\\lib\\site-packages (from matplotlib>=2.2.3->allennlp) (0.10.0)\n",
            "Requirement already satisfied, skipping upgrade: python-dateutil>=2.1 in c:\\users\\shanb\\anaconda3\\envs\\envpytorchcudapy36\\lib\\site-packages (from matplotlib>=2.2.3->allennlp) (2.8.1)\n",
            "Requirement already satisfied, skipping upgrade: kiwisolver>=1.0.1 in c:\\users\\shanb\\anaconda3\\envs\\envpytorchcudapy36\\lib\\site-packages (from matplotlib>=2.2.3->allennlp) (1.1.0)\n",
            "Requirement already satisfied, skipping upgrade: pyparsing!=2.0.4,!=2.1.2,!=2.1.6,>=2.0.1 in c:\\users\\shanb\\anaconda3\\envs\\envpytorchcudapy36\\lib\\site-packages (from matplotlib>=2.2.3->allennlp) (2.4.5)\n",
            "Requirement already satisfied, skipping upgrade: botocore<1.16.0,>=1.15.30 in c:\\users\\shanb\\anaconda3\\envs\\envpytorchcudapy36\\lib\\site-packages (from boto3->allennlp) (1.15.30)\n",
            "Requirement already satisfied, skipping upgrade: jmespath<1.0.0,>=0.7.1 in c:\\users\\shanb\\anaconda3\\envs\\envpytorchcudapy36\\lib\\site-packages (from boto3->allennlp) (0.9.5)\n",
            "Requirement already satisfied, skipping upgrade: s3transfer<0.4.0,>=0.3.0 in c:\\users\\shanb\\anaconda3\\envs\\envpytorchcudapy36\\lib\\site-packages (from boto3->allennlp) (0.3.3)\n",
            "Requirement already satisfied, skipping upgrade: joblib>=0.11 in c:\\users\\shanb\\anaconda3\\envs\\envpytorchcudapy36\\lib\\site-packages (from scikit-learn->allennlp) (0.14.1)\n",
            "Requirement already satisfied, skipping upgrade: greenlet>=0.4.14; platform_python_implementation == \"CPython\" in c:\\users\\shanb\\anaconda3\\envs\\envpytorchcudapy36\\lib\\site-packages (from gevent>=1.3.6->allennlp) (0.4.15)\n",
            "Requirement already satisfied, skipping upgrade: cffi>=1.11.5; sys_platform == \"win32\" and platform_python_implementation == \"CPython\" in c:\\users\\shanb\\anaconda3\\envs\\envpytorchcudapy36\\lib\\site-packages (from gevent>=1.3.6->allennlp) (1.13.1)\n",
            "Requirement already satisfied, skipping upgrade: zipp>=0.5 in c:\\users\\shanb\\anaconda3\\envs\\envpytorchcudapy36\\lib\\site-packages (from importlib-metadata>=0.20; python_version < \"3.8\"->catalogue<1.1.0,>=0.0.7->spacy) (0.6.0)\n",
            "Requirement already satisfied, skipping upgrade: sphinxcontrib-htmlhelp in c:\\users\\shanb\\anaconda3\\envs\\envpytorchcudapy36\\lib\\site-packages (from sphinx>=1.6.5->numpydoc>=0.8.0->allennlp) (1.0.3)\n",
            "Requirement already satisfied, skipping upgrade: sphinxcontrib-serializinghtml in c:\\users\\shanb\\anaconda3\\envs\\envpytorchcudapy36\\lib\\site-packages (from sphinx>=1.6.5->numpydoc>=0.8.0->allennlp) (1.1.4)\n",
            "Requirement already satisfied, skipping upgrade: sphinxcontrib-devhelp in c:\\users\\shanb\\anaconda3\\envs\\envpytorchcudapy36\\lib\\site-packages (from sphinx>=1.6.5->numpydoc>=0.8.0->allennlp) (1.0.2)\n",
            "Requirement already satisfied, skipping upgrade: alabaster<0.8,>=0.7 in c:\\users\\shanb\\anaconda3\\envs\\envpytorchcudapy36\\lib\\site-packages (from sphinx>=1.6.5->numpydoc>=0.8.0->allennlp) (0.7.12)\n",
            "Requirement already satisfied, skipping upgrade: sphinxcontrib-jsmath in c:\\users\\shanb\\anaconda3\\envs\\envpytorchcudapy36\\lib\\site-packages (from sphinx>=1.6.5->numpydoc>=0.8.0->allennlp) (1.0.1)\n",
            "Requirement already satisfied, skipping upgrade: snowballstemmer>=1.1 in c:\\users\\shanb\\anaconda3\\envs\\envpytorchcudapy36\\lib\\site-packages (from sphinx>=1.6.5->numpydoc>=0.8.0->allennlp) (2.0.0)\n",
            "Requirement already satisfied, skipping upgrade: babel!=2.0,>=1.3 in c:\\users\\shanb\\anaconda3\\envs\\envpytorchcudapy36\\lib\\site-packages (from sphinx>=1.6.5->numpydoc>=0.8.0->allennlp) (2.8.0)\n",
            "Requirement already satisfied, skipping upgrade: sphinxcontrib-applehelp in c:\\users\\shanb\\anaconda3\\envs\\envpytorchcudapy36\\lib\\site-packages (from sphinx>=1.6.5->numpydoc>=0.8.0->allennlp) (1.0.2)\n",
            "Requirement already satisfied, skipping upgrade: imagesize in c:\\users\\shanb\\anaconda3\\envs\\envpytorchcudapy36\\lib\\site-packages (from sphinx>=1.6.5->numpydoc>=0.8.0->allennlp) (1.2.0)\n",
            "Requirement already satisfied, skipping upgrade: Pygments>=2.0 in c:\\users\\shanb\\anaconda3\\envs\\envpytorchcudapy36\\lib\\site-packages (from sphinx>=1.6.5->numpydoc>=0.8.0->allennlp) (2.4.2)\n",
            "Requirement already satisfied, skipping upgrade: sphinxcontrib-qthelp in c:\\users\\shanb\\anaconda3\\envs\\envpytorchcudapy36\\lib\\site-packages (from sphinx>=1.6.5->numpydoc>=0.8.0->allennlp) (1.0.3)\n",
            "Requirement already satisfied, skipping upgrade: docutils>=0.12 in c:\\users\\shanb\\anaconda3\\envs\\envpytorchcudapy36\\lib\\site-packages (from sphinx>=1.6.5->numpydoc>=0.8.0->allennlp) (0.15.2)\n",
            "Requirement already satisfied, skipping upgrade: MarkupSafe>=0.23 in c:\\users\\shanb\\anaconda3\\envs\\envpytorchcudapy36\\lib\\site-packages (from Jinja2>=2.3->numpydoc>=0.8.0->allennlp) (1.1.1)\n",
            "Requirement already satisfied, skipping upgrade: pycparser in c:\\users\\shanb\\anaconda3\\envs\\envpytorchcudapy36\\lib\\site-packages (from cffi>=1.11.5; sys_platform == \"win32\" and platform_python_implementation == \"CPython\"->gevent>=1.3.6->allennlp) (2.19)\n"
          ],
          "name": "stdout"
        },
        {
          "output_type": "stream",
          "text": [
            "2.2.4\n"
          ],
          "name": "stdout"
        }
      ]
    },
    {
      "cell_type": "code",
      "metadata": {
        "colab_type": "code",
        "id": "f4zJfaIlJ2bv",
        "outputId": "0387bacd-c119-4bca-c483-4481f6c62cb8",
        "colab": {
          "base_uri": "https://localhost:8080/",
          "height": 34
        }
      },
      "source": [
        "from typing import Iterator, List, Dict\n",
        "import torch\n",
        "import torch.optim as optim\n",
        "import numpy as np\n",
        "from allennlp.data import Instance\n",
        "from allennlp.data.fields import TextField, SequenceLabelField\n",
        "from allennlp.data.dataset_readers import DatasetReader\n",
        "from allennlp.common.file_utils import cached_path\n",
        "from allennlp.data.token_indexers import TokenIndexer, SingleIdTokenIndexer\n",
        "from allennlp.data.tokenizers import Token\n",
        "from allennlp.data.vocabulary import Vocabulary\n",
        "from allennlp.models import Model\n",
        "from allennlp.modules.text_field_embedders import TextFieldEmbedder, BasicTextFieldEmbedder\n",
        "from allennlp.modules.token_embedders import Embedding\n",
        "from allennlp.modules.seq2seq_encoders import Seq2SeqEncoder, PytorchSeq2SeqWrapper\n",
        "from allennlp.nn.util import get_text_field_mask, sequence_cross_entropy_with_logits\n",
        "from allennlp.training.metrics import CategoricalAccuracy\n",
        "from allennlp.data.iterators import BucketIterator\n",
        "from allennlp.training.trainer import Trainer\n",
        "from allennlp.predictors import SentenceTaggerPredictor\n",
        "from allennlp.data.dataset_readers import conll2003\n",
        "\n",
        "torch.manual_seed(1)"
      ],
      "execution_count": 0,
      "outputs": [
        {
          "output_type": "execute_result",
          "data": {
            "text/plain": [
              "<torch._C.Generator at 0x1a74e55d7d0>"
            ]
          },
          "metadata": {
            "tags": []
          },
          "execution_count": 2
        }
      ]
    },
    {
      "cell_type": "code",
      "metadata": {
        "colab_type": "code",
        "id": "Qo16Ko0Gchxk",
        "colab": {}
      },
      "source": [
        "class LstmTagger(Model):\n",
        "  def __init__(self,\n",
        "               word_embeddings: TextFieldEmbedder,\n",
        "               encoder: Seq2SeqEncoder,\n",
        "               vocab: Vocabulary) -> None:\n",
        "    super().__init__(vocab)\n",
        "    self.word_embeddings = word_embeddings\n",
        "    self.encoder = encoder\n",
        "    self.hidden2tag = torch.nn.Linear(in_features=encoder.get_output_dim(),\n",
        "                                      out_features=vocab.get_vocab_size('labels'))\n",
        "    self.accuracy = CategoricalAccuracy()\n",
        "\n",
        "  def forward(self,\n",
        "              tokens: Dict[str, torch.Tensor],\n",
        "              metadata,\n",
        "              tags: torch.Tensor = None) -> Dict[str, torch.Tensor]:\n",
        "    mask = get_text_field_mask(tokens)\n",
        "    embeddings = self.word_embeddings(tokens)\n",
        "    encoder_out = self.encoder(embeddings, mask)\n",
        "    tag_logits = self.hidden2tag(encoder_out)\n",
        "    output = {\"tag_logits\": tag_logits}\n",
        "    if tags is not None:\n",
        "      self.accuracy(tag_logits, tags, mask)\n",
        "      output[\"loss\"] = sequence_cross_entropy_with_logits(tag_logits, tags, mask)\n",
        "\n",
        "    return output\n",
        "\n",
        "  def get_metrics(self, reset: bool = False) -> Dict[str, float]:\n",
        "    return {\"accuracy\": self.accuracy.get_metric(reset)}"
      ],
      "execution_count": 0,
      "outputs": []
    },
    {
      "cell_type": "markdown",
      "metadata": {
        "colab_type": "text",
        "id": "mVdKvPftVVLt"
      },
      "source": [
        "## Import Data"
      ]
    },
    {
      "cell_type": "code",
      "metadata": {
        "colab_type": "code",
        "id": "5sOVVZslKm3N",
        "colab": {},
        "outputId": "04d7699a-5026-4778-abe8-c9f96d409475"
      },
      "source": [
        "reader = conll2003.Conll2003DatasetReader()\n",
        "train_dataset = reader.read(cached_path('http://www.ccs.neu.edu/home/dasmith/onto.train.ner.sample'))\n",
        "validation_dataset = reader.read(cached_path('http://www.ccs.neu.edu/home/dasmith/onto.development.ner.sample'))\n",
        "\n",
        "vocab = Vocabulary.from_instances(train_dataset + validation_dataset)"
      ],
      "execution_count": 0,
      "outputs": [
        {
          "output_type": "stream",
          "text": [
            "562it [00:00, 12914.81it/s]\n",
            "23it [00:00, 1160.85it/s]\n",
            "100%|█████████████████████████████████████████████████████████████████████████████| 585/585 [00:00<00:00, 36679.94it/s]\n"
          ],
          "name": "stderr"
        }
      ]
    },
    {
      "cell_type": "markdown",
      "metadata": {
        "colab_type": "text",
        "id": "wpg2Udr-Vnwm"
      },
      "source": [
        "## Define and Train Model"
      ]
    },
    {
      "cell_type": "code",
      "metadata": {
        "colab_type": "code",
        "id": "8kDQQBMywdKx",
        "colab": {},
        "outputId": "7631bd55-5e60-4107-ec81-493e974e3b80"
      },
      "source": [
        "EMBEDDING_DIM = 6\n",
        "HIDDEN_DIM = 6\n",
        "token_embedding = Embedding(num_embeddings=vocab.get_vocab_size('tokens'),\n",
        "                            embedding_dim=EMBEDDING_DIM)\n",
        "word_embeddings = BasicTextFieldEmbedder({\"tokens\": token_embedding})\n",
        "lstm = PytorchSeq2SeqWrapper(torch.nn.LSTM(EMBEDDING_DIM, HIDDEN_DIM, bidirectional=False, batch_first=True))\n",
        "model = LstmTagger(word_embeddings, lstm, vocab)\n",
        "if torch.cuda.is_available():\n",
        "    cuda_device = 0\n",
        "    model = model.cuda(cuda_device)\n",
        "else:\n",
        "    cuda_device = -1\n",
        "# optimizer = optim.AdamW(model.parameters(), lr=1e-4, eps=1e-8)\n",
        "optimizer = optim.SGD(model.parameters(), lr=0.1)\n",
        "iterator = BucketIterator(batch_size=2, sorting_keys=[(\"tokens\", \"num_tokens\")])\n",
        "iterator.index_with(vocab)\n",
        "trainer = Trainer(model=model,\n",
        "                  optimizer=optimizer,\n",
        "                  iterator=iterator,\n",
        "                  train_dataset=train_dataset,\n",
        "                  validation_dataset=validation_dataset,\n",
        "                  patience=10,\n",
        "                  num_epochs=100,\n",
        "                  cuda_device=cuda_device)\n",
        "trainer.train()"
      ],
      "execution_count": 0,
      "outputs": [
        {
          "output_type": "stream",
          "text": [
            "accuracy: 0.8442, loss: 0.9104 ||: 100%|█████████████████████████████████████████████| 281/281 [00:04<00:00, 62.10it/s]\n",
            "accuracy: 0.7878, loss: 1.1969 ||: 100%|██████████████████████████████████████████████| 12/12 [00:00<00:00, 158.11it/s]\n",
            "accuracy: 0.8442, loss: 0.7293 ||: 100%|█████████████████████████████████████████████| 281/281 [00:03<00:00, 73.55it/s]\n",
            "accuracy: 0.7878, loss: 1.1831 ||: 100%|██████████████████████████████████████████████| 12/12 [00:00<00:00, 171.62it/s]\n",
            "accuracy: 0.8442, loss: 0.7164 ||: 100%|█████████████████████████████████████████████| 281/281 [00:03<00:00, 93.23it/s]\n",
            "accuracy: 0.7878, loss: 1.1963 ||: 100%|██████████████████████████████████████████████| 12/12 [00:00<00:00, 199.29it/s]\n",
            "accuracy: 0.8442, loss: 0.7071 ||: 100%|█████████████████████████████████████████████| 281/281 [00:02<00:00, 94.15it/s]\n",
            "accuracy: 0.7878, loss: 1.1840 ||: 100%|██████████████████████████████████████████████| 12/12 [00:00<00:00, 166.63it/s]\n",
            "accuracy: 0.8442, loss: 0.6992 ||: 100%|█████████████████████████████████████████████| 281/281 [00:03<00:00, 92.85it/s]\n",
            "accuracy: 0.7878, loss: 1.1550 ||: 100%|██████████████████████████████████████████████| 12/12 [00:00<00:00, 160.83it/s]\n",
            "accuracy: 0.8442, loss: 0.6916 ||: 100%|█████████████████████████████████████████████| 281/281 [00:03<00:00, 90.97it/s]\n",
            "accuracy: 0.7878, loss: 1.1547 ||: 100%|██████████████████████████████████████████████| 12/12 [00:00<00:00, 173.88it/s]\n",
            "accuracy: 0.8442, loss: 0.6824 ||: 100%|█████████████████████████████████████████████| 281/281 [00:03<00:00, 92.97it/s]\n",
            "accuracy: 0.7878, loss: 1.1582 ||: 100%|██████████████████████████████████████████████| 12/12 [00:00<00:00, 186.41it/s]\n",
            "accuracy: 0.8442, loss: 0.6714 ||: 100%|█████████████████████████████████████████████| 281/281 [00:02<00:00, 94.17it/s]\n",
            "accuracy: 0.7878, loss: 1.1218 ||: 100%|██████████████████████████████████████████████| 12/12 [00:00<00:00, 149.44it/s]\n",
            "accuracy: 0.8442, loss: 0.6578 ||: 100%|█████████████████████████████████████████████| 281/281 [00:03<00:00, 93.25it/s]\n",
            "accuracy: 0.7878, loss: 1.1160 ||: 100%|██████████████████████████████████████████████| 12/12 [00:00<00:00, 187.56it/s]\n",
            "accuracy: 0.8442, loss: 0.6406 ||: 100%|█████████████████████████████████████████████| 281/281 [00:03<00:00, 92.57it/s]\n",
            "accuracy: 0.7878, loss: 1.0972 ||: 100%|██████████████████████████████████████████████| 12/12 [00:00<00:00, 157.18it/s]\n",
            "accuracy: 0.8442, loss: 0.6156 ||: 100%|█████████████████████████████████████████████| 281/281 [00:03<00:00, 91.70it/s]\n",
            "accuracy: 0.7878, loss: 1.0411 ||: 100%|██████████████████████████████████████████████| 12/12 [00:00<00:00, 190.65it/s]\n",
            "accuracy: 0.8442, loss: 0.5815 ||: 100%|█████████████████████████████████████████████| 281/281 [00:03<00:00, 92.04it/s]\n",
            "accuracy: 0.7878, loss: 0.9930 ||: 100%|██████████████████████████████████████████████| 12/12 [00:00<00:00, 179.93it/s]\n",
            "accuracy: 0.8450, loss: 0.5425 ||: 100%|█████████████████████████████████████████████| 281/281 [00:03<00:00, 89.84it/s]\n",
            "accuracy: 0.7878, loss: 0.9228 ||: 100%|██████████████████████████████████████████████| 12/12 [00:00<00:00, 171.75it/s]\n",
            "accuracy: 0.8555, loss: 0.5039 ||: 100%|█████████████████████████████████████████████| 281/281 [00:03<00:00, 83.25it/s]\n",
            "accuracy: 0.7878, loss: 0.8971 ||: 100%|██████████████████████████████████████████████| 12/12 [00:00<00:00, 189.62it/s]\n",
            "accuracy: 0.8589, loss: 0.4732 ||: 100%|█████████████████████████████████████████████| 281/281 [00:03<00:00, 79.85it/s]\n",
            "accuracy: 0.7878, loss: 0.8217 ||: 100%|██████████████████████████████████████████████| 12/12 [00:00<00:00, 155.63it/s]\n",
            "accuracy: 0.8598, loss: 0.4505 ||: 100%|█████████████████████████████████████████████| 281/281 [00:03<00:00, 71.02it/s]\n",
            "accuracy: 0.7939, loss: 0.7954 ||: 100%|██████████████████████████████████████████████| 12/12 [00:00<00:00, 157.92it/s]\n",
            "accuracy: 0.8615, loss: 0.4293 ||: 100%|█████████████████████████████████████████████| 281/281 [00:04<00:00, 67.33it/s]\n",
            "accuracy: 0.7939, loss: 0.8187 ||: 100%|██████████████████████████████████████████████| 12/12 [00:00<00:00, 161.58it/s]\n",
            "accuracy: 0.8619, loss: 0.4188 ||: 100%|█████████████████████████████████████████████| 281/281 [00:03<00:00, 77.80it/s]\n",
            "accuracy: 0.7939, loss: 0.7677 ||: 100%|██████████████████████████████████████████████| 12/12 [00:00<00:00, 171.48it/s]\n",
            "accuracy: 0.8620, loss: 0.4047 ||: 100%|█████████████████████████████████████████████| 281/281 [00:03<00:00, 80.85it/s]\n",
            "accuracy: 0.7939, loss: 0.7481 ||: 100%|██████████████████████████████████████████████| 12/12 [00:00<00:00, 157.25it/s]\n",
            "accuracy: 0.8632, loss: 0.3998 ||: 100%|█████████████████████████████████████████████| 281/281 [00:03<00:00, 82.46it/s]\n",
            "accuracy: 0.7939, loss: 0.7403 ||: 100%|██████████████████████████████████████████████| 12/12 [00:00<00:00, 166.89it/s]\n",
            "accuracy: 0.8639, loss: 0.3914 ||: 100%|█████████████████████████████████████████████| 281/281 [00:03<00:00, 70.85it/s]\n",
            "accuracy: 0.7939, loss: 0.7309 ||: 100%|██████████████████████████████████████████████| 12/12 [00:00<00:00, 125.16it/s]\n",
            "accuracy: 0.8642, loss: 0.3854 ||: 100%|█████████████████████████████████████████████| 281/281 [00:03<00:00, 74.00it/s]\n",
            "accuracy: 0.7939, loss: 0.7371 ||: 100%|██████████████████████████████████████████████| 12/12 [00:00<00:00, 153.89it/s]\n",
            "accuracy: 0.8645, loss: 0.3813 ||: 100%|█████████████████████████████████████████████| 281/281 [00:03<00:00, 92.00it/s]\n",
            "accuracy: 0.7939, loss: 0.7234 ||: 100%|██████████████████████████████████████████████| 12/12 [00:00<00:00, 214.39it/s]\n",
            "accuracy: 0.8653, loss: 0.3758 ||: 100%|█████████████████████████████████████████████| 281/281 [00:03<00:00, 77.01it/s]\n",
            "accuracy: 0.7939, loss: 0.7085 ||: 100%|██████████████████████████████████████████████| 12/12 [00:00<00:00, 214.57it/s]\n",
            "accuracy: 0.8655, loss: 0.3731 ||: 100%|█████████████████████████████████████████████| 281/281 [00:03<00:00, 92.92it/s]\n",
            "accuracy: 0.7959, loss: 0.7092 ||: 100%|██████████████████████████████████████████████| 12/12 [00:00<00:00, 180.84it/s]\n",
            "accuracy: 0.8662, loss: 0.3694 ||: 100%|█████████████████████████████████████████████| 281/281 [00:03<00:00, 91.02it/s]\n",
            "accuracy: 0.7837, loss: 0.7364 ||: 100%|██████████████████████████████████████████████| 12/12 [00:00<00:00, 166.89it/s]\n",
            "accuracy: 0.8684, loss: 0.3660 ||: 100%|█████████████████████████████████████████████| 281/281 [00:03<00:00, 92.24it/s]\n",
            "accuracy: 0.8000, loss: 0.7063 ||: 100%|██████████████████████████████████████████████| 12/12 [00:00<00:00, 214.57it/s]\n",
            "accuracy: 0.8684, loss: 0.3632 ||: 100%|█████████████████████████████████████████████| 281/281 [00:03<00:00, 93.62it/s]\n",
            "accuracy: 0.8000, loss: 0.6919 ||: 100%|██████████████████████████████████████████████| 12/12 [00:00<00:00, 200.27it/s]\n",
            "accuracy: 0.8704, loss: 0.3592 ||: 100%|█████████████████████████████████████████████| 281/281 [00:03<00:00, 91.72it/s]\n",
            "accuracy: 0.7980, loss: 0.7059 ||: 100%|██████████████████████████████████████████████| 12/12 [00:00<00:00, 176.72it/s]\n",
            "accuracy: 0.8717, loss: 0.3554 ||: 100%|█████████████████████████████████████████████| 281/281 [00:02<00:00, 94.61it/s]\n",
            "accuracy: 0.8041, loss: 0.6906 ||: 100%|██████████████████████████████████████████████| 12/12 [00:00<00:00, 166.88it/s]\n",
            "accuracy: 0.8726, loss: 0.3519 ||: 100%|█████████████████████████████████████████████| 281/281 [00:02<00:00, 94.86it/s]\n",
            "accuracy: 0.8000, loss: 0.6642 ||: 100%|██████████████████████████████████████████████| 12/12 [00:00<00:00, 187.75it/s]\n",
            "accuracy: 0.8714, loss: 0.3489 ||: 100%|█████████████████████████████████████████████| 281/281 [00:03<00:00, 93.02it/s]\n",
            "accuracy: 0.8041, loss: 0.6771 ||: 100%|██████████████████████████████████████████████| 12/12 [00:00<00:00, 187.74it/s]\n",
            "accuracy: 0.8740, loss: 0.3466 ||: 100%|█████████████████████████████████████████████| 281/281 [00:03<00:00, 93.04it/s]\n",
            "accuracy: 0.8061, loss: 0.6740 ||: 100%|██████████████████████████████████████████████| 12/12 [00:00<00:00, 200.26it/s]\n",
            "accuracy: 0.8758, loss: 0.3418 ||: 100%|█████████████████████████████████████████████| 281/281 [00:03<00:00, 93.38it/s]\n",
            "accuracy: 0.8082, loss: 0.6739 ||: 100%|██████████████████████████████████████████████| 12/12 [00:00<00:00, 214.57it/s]\n"
          ],
          "name": "stderr"
        },
        {
          "output_type": "stream",
          "text": [
            "accuracy: 0.8755, loss: 0.3387 ||: 100%|█████████████████████████████████████████████| 281/281 [00:03<00:00, 93.65it/s]\n",
            "accuracy: 0.8000, loss: 0.6632 ||: 100%|██████████████████████████████████████████████| 12/12 [00:00<00:00, 180.79it/s]\n",
            "accuracy: 0.8750, loss: 0.3360 ||: 100%|█████████████████████████████████████████████| 281/281 [00:02<00:00, 94.14it/s]\n",
            "accuracy: 0.8082, loss: 0.6590 ||: 100%|██████████████████████████████████████████████| 12/12 [00:00<00:00, 200.27it/s]\n",
            "accuracy: 0.8777, loss: 0.3324 ||: 100%|█████████████████████████████████████████████| 281/281 [00:03<00:00, 92.16it/s]\n",
            "accuracy: 0.8143, loss: 0.6413 ||: 100%|██████████████████████████████████████████████| 12/12 [00:00<00:00, 166.89it/s]\n",
            "accuracy: 0.8778, loss: 0.3316 ||: 100%|█████████████████████████████████████████████| 281/281 [00:03<00:00, 92.54it/s]\n",
            "accuracy: 0.8061, loss: 0.6300 ||: 100%|██████████████████████████████████████████████| 12/12 [00:00<00:00, 153.92it/s]\n",
            "accuracy: 0.8780, loss: 0.3277 ||: 100%|█████████████████████████████████████████████| 281/281 [00:03<00:00, 92.19it/s]\n",
            "accuracy: 0.7918, loss: 0.7382 ||: 100%|██████████████████████████████████████████████| 12/12 [00:00<00:00, 214.57it/s]\n",
            "accuracy: 0.8807, loss: 0.3261 ||: 100%|█████████████████████████████████████████████| 281/281 [00:03<00:00, 91.61it/s]\n",
            "accuracy: 0.8122, loss: 0.6364 ||: 100%|██████████████████████████████████████████████| 12/12 [00:00<00:00, 200.26it/s]\n",
            "accuracy: 0.8811, loss: 0.3220 ||: 100%|█████████████████████████████████████████████| 281/281 [00:03<00:00, 92.12it/s]\n",
            "accuracy: 0.8245, loss: 0.6251 ||: 100%|██████████████████████████████████████████████| 12/12 [00:00<00:00, 187.75it/s]\n",
            "accuracy: 0.8813, loss: 0.3207 ||: 100%|█████████████████████████████████████████████| 281/281 [00:03<00:00, 86.40it/s]\n",
            "accuracy: 0.8367, loss: 0.6106 ||: 100%|██████████████████████████████████████████████| 12/12 [00:00<00:00, 200.27it/s]\n",
            "accuracy: 0.8837, loss: 0.3180 ||: 100%|█████████████████████████████████████████████| 281/281 [00:03<00:00, 92.31it/s]\n",
            "accuracy: 0.8204, loss: 0.6190 ||: 100%|██████████████████████████████████████████████| 12/12 [00:00<00:00, 187.74it/s]\n",
            "accuracy: 0.8822, loss: 0.3178 ||: 100%|█████████████████████████████████████████████| 281/281 [00:03<00:00, 91.74it/s]\n",
            "accuracy: 0.8347, loss: 0.6192 ||: 100%|██████████████████████████████████████████████| 12/12 [00:00<00:00, 206.58it/s]\n",
            "accuracy: 0.8879, loss: 0.3130 ||: 100%|█████████████████████████████████████████████| 281/281 [00:04<00:00, 68.98it/s]\n",
            "accuracy: 0.8347, loss: 0.6135 ||: 100%|██████████████████████████████████████████████| 12/12 [00:00<00:00, 110.17it/s]\n",
            "accuracy: 0.8860, loss: 0.3130 ||: 100%|█████████████████████████████████████████████| 281/281 [00:04<00:00, 67.54it/s]\n",
            "accuracy: 0.8388, loss: 0.6071 ||: 100%|██████████████████████████████████████████████| 12/12 [00:00<00:00, 176.71it/s]\n",
            "accuracy: 0.8878, loss: 0.3106 ||: 100%|█████████████████████████████████████████████| 281/281 [00:03<00:00, 74.21it/s]\n",
            "accuracy: 0.8367, loss: 0.5977 ||: 100%|██████████████████████████████████████████████| 12/12 [00:00<00:00, 166.89it/s]\n",
            "accuracy: 0.8878, loss: 0.3070 ||: 100%|█████████████████████████████████████████████| 281/281 [00:03<00:00, 81.82it/s]\n",
            "accuracy: 0.8408, loss: 0.6022 ||: 100%|██████████████████████████████████████████████| 12/12 [00:00<00:00, 187.75it/s]\n",
            "accuracy: 0.8889, loss: 0.3080 ||: 100%|█████████████████████████████████████████████| 281/281 [00:03<00:00, 90.02it/s]\n",
            "accuracy: 0.8347, loss: 0.6131 ||: 100%|██████████████████████████████████████████████| 12/12 [00:00<00:00, 200.28it/s]\n",
            "accuracy: 0.8929, loss: 0.3035 ||: 100%|█████████████████████████████████████████████| 281/281 [00:03<00:00, 93.38it/s]\n",
            "accuracy: 0.8408, loss: 0.5942 ||: 100%|██████████████████████████████████████████████| 12/12 [00:00<00:00, 187.75it/s]\n",
            "accuracy: 0.8925, loss: 0.3019 ||: 100%|█████████████████████████████████████████████| 281/281 [00:03<00:00, 91.80it/s]\n",
            "accuracy: 0.8429, loss: 0.5922 ||: 100%|██████████████████████████████████████████████| 12/12 [00:00<00:00, 158.10it/s]\n",
            "accuracy: 0.8907, loss: 0.3009 ||: 100%|█████████████████████████████████████████████| 281/281 [00:03<00:00, 92.16it/s]\n",
            "accuracy: 0.8327, loss: 0.6047 ||: 100%|██████████████████████████████████████████████| 12/12 [00:00<00:00, 187.74it/s]\n",
            "accuracy: 0.8905, loss: 0.2982 ||: 100%|█████████████████████████████████████████████| 281/281 [00:02<00:00, 93.87it/s]\n",
            "accuracy: 0.8388, loss: 0.5759 ||: 100%|██████████████████████████████████████████████| 12/12 [00:00<00:00, 176.71it/s]\n",
            "accuracy: 0.8916, loss: 0.2977 ||: 100%|█████████████████████████████████████████████| 281/281 [00:02<00:00, 93.68it/s]\n",
            "accuracy: 0.8429, loss: 0.5881 ||: 100%|██████████████████████████████████████████████| 12/12 [00:00<00:00, 200.27it/s]\n",
            "accuracy: 0.8934, loss: 0.2962 ||: 100%|█████████████████████████████████████████████| 281/281 [00:03<00:00, 91.81it/s]\n",
            "accuracy: 0.8490, loss: 0.5737 ||: 100%|██████████████████████████████████████████████| 12/12 [00:00<00:00, 200.26it/s]\n",
            "accuracy: 0.8950, loss: 0.2925 ||: 100%|█████████████████████████████████████████████| 281/281 [00:03<00:00, 92.42it/s]\n",
            "accuracy: 0.8490, loss: 0.5689 ||: 100%|██████████████████████████████████████████████| 12/12 [00:00<00:00, 166.89it/s]\n",
            "accuracy: 0.8957, loss: 0.2900 ||: 100%|█████████████████████████████████████████████| 281/281 [00:03<00:00, 92.13it/s]\n",
            "accuracy: 0.8490, loss: 0.5627 ||: 100%|██████████████████████████████████████████████| 12/12 [00:00<00:00, 214.57it/s]\n",
            "accuracy: 0.8934, loss: 0.2883 ||: 100%|█████████████████████████████████████████████| 281/281 [00:02<00:00, 93.67it/s]\n",
            "accuracy: 0.8102, loss: 0.7173 ||: 100%|██████████████████████████████████████████████| 12/12 [00:00<00:00, 166.89it/s]\n",
            "accuracy: 0.8931, loss: 0.2909 ||: 100%|█████████████████████████████████████████████| 281/281 [00:03<00:00, 91.65it/s]\n",
            "accuracy: 0.8510, loss: 0.5543 ||: 100%|██████████████████████████████████████████████| 12/12 [00:00<00:00, 187.75it/s]\n",
            "accuracy: 0.8958, loss: 0.2880 ||: 100%|█████████████████████████████████████████████| 281/281 [00:03<00:00, 93.16it/s]\n",
            "accuracy: 0.8490, loss: 0.5594 ||: 100%|██████████████████████████████████████████████| 12/12 [00:00<00:00, 200.27it/s]\n",
            "accuracy: 0.8966, loss: 0.2848 ||: 100%|█████████████████████████████████████████████| 281/281 [00:02<00:00, 94.04it/s]\n",
            "accuracy: 0.8469, loss: 0.5570 ||: 100%|██████████████████████████████████████████████| 12/12 [00:00<00:00, 200.26it/s]\n",
            "accuracy: 0.8949, loss: 0.2837 ||: 100%|█████████████████████████████████████████████| 281/281 [00:03<00:00, 92.93it/s]\n",
            "accuracy: 0.8408, loss: 0.5604 ||: 100%|██████████████████████████████████████████████| 12/12 [00:00<00:00, 166.89it/s]\n",
            "accuracy: 0.8968, loss: 0.2804 ||: 100%|█████████████████████████████████████████████| 281/281 [00:03<00:00, 92.91it/s]\n",
            "accuracy: 0.8265, loss: 0.6592 ||: 100%|██████████████████████████████████████████████| 12/12 [00:00<00:00, 200.27it/s]\n",
            "accuracy: 0.8965, loss: 0.2795 ||: 100%|█████████████████████████████████████████████| 281/281 [00:03<00:00, 84.86it/s]\n",
            "accuracy: 0.8347, loss: 0.6289 ||: 100%|██████████████████████████████████████████████| 12/12 [00:00<00:00, 187.74it/s]\n",
            "accuracy: 0.8963, loss: 0.2799 ||: 100%|█████████████████████████████████████████████| 281/281 [00:02<00:00, 95.63it/s]\n",
            "accuracy: 0.8469, loss: 0.5624 ||: 100%|██████████████████████████████████████████████| 12/12 [00:00<00:00, 176.71it/s]\n",
            "accuracy: 0.8973, loss: 0.2786 ||: 100%|█████████████████████████████████████████████| 281/281 [00:02<00:00, 94.51it/s]\n",
            "accuracy: 0.8510, loss: 0.5444 ||: 100%|██████████████████████████████████████████████| 12/12 [00:00<00:00, 176.71it/s]\n",
            "accuracy: 0.8982, loss: 0.2745 ||: 100%|█████████████████████████████████████████████| 281/281 [00:02<00:00, 95.55it/s]\n",
            "accuracy: 0.8571, loss: 0.5333 ||: 100%|██████████████████████████████████████████████| 12/12 [00:00<00:00, 200.27it/s]\n",
            "accuracy: 0.8991, loss: 0.2714 ||: 100%|█████████████████████████████████████████████| 281/281 [00:03<00:00, 92.54it/s]\n",
            "accuracy: 0.8551, loss: 0.5195 ||: 100%|██████████████████████████████████████████████| 12/12 [00:00<00:00, 210.53it/s]\n"
          ],
          "name": "stderr"
        },
        {
          "output_type": "stream",
          "text": [
            "accuracy: 0.8987, loss: 0.2719 ||: 100%|█████████████████████████████████████████████| 281/281 [00:02<00:00, 94.48it/s]\n",
            "accuracy: 0.8531, loss: 0.5193 ||: 100%|██████████████████████████████████████████████| 12/12 [00:00<00:00, 200.27it/s]\n",
            "accuracy: 0.8991, loss: 0.2685 ||: 100%|█████████████████████████████████████████████| 281/281 [00:02<00:00, 93.87it/s]\n",
            "accuracy: 0.8449, loss: 0.5491 ||: 100%|██████████████████████████████████████████████| 12/12 [00:00<00:00, 200.28it/s]\n",
            "accuracy: 0.9004, loss: 0.2677 ||: 100%|█████████████████████████████████████████████| 281/281 [00:02<00:00, 95.74it/s]\n",
            "accuracy: 0.8551, loss: 0.5184 ||: 100%|██████████████████████████████████████████████| 12/12 [00:00<00:00, 200.27it/s]\n",
            "accuracy: 0.9028, loss: 0.2644 ||: 100%|█████████████████████████████████████████████| 281/281 [00:02<00:00, 93.78it/s]\n",
            "accuracy: 0.8592, loss: 0.5141 ||: 100%|██████████████████████████████████████████████| 12/12 [00:00<00:00, 181.82it/s]\n",
            "accuracy: 0.9027, loss: 0.2641 ||: 100%|█████████████████████████████████████████████| 281/281 [00:03<00:00, 87.66it/s]\n",
            "accuracy: 0.8510, loss: 0.5197 ||: 100%|██████████████████████████████████████████████| 12/12 [00:00<00:00, 200.26it/s]\n",
            "accuracy: 0.9030, loss: 0.2604 ||: 100%|█████████████████████████████████████████████| 281/281 [00:02<00:00, 95.48it/s]\n",
            "accuracy: 0.8571, loss: 0.5051 ||: 100%|██████████████████████████████████████████████| 12/12 [00:00<00:00, 176.70it/s]\n",
            "accuracy: 0.9040, loss: 0.2603 ||: 100%|█████████████████████████████████████████████| 281/281 [00:02<00:00, 95.46it/s]\n",
            "accuracy: 0.8673, loss: 0.4969 ||: 100%|██████████████████████████████████████████████| 12/12 [00:00<00:00, 180.79it/s]\n",
            "accuracy: 0.9036, loss: 0.2588 ||: 100%|█████████████████████████████████████████████| 281/281 [00:02<00:00, 93.73it/s]\n",
            "accuracy: 0.8592, loss: 0.5090 ||: 100%|██████████████████████████████████████████████| 12/12 [00:00<00:00, 200.27it/s]\n",
            "accuracy: 0.9070, loss: 0.2556 ||: 100%|█████████████████████████████████████████████| 281/281 [00:02<00:00, 95.16it/s]\n",
            "accuracy: 0.8592, loss: 0.5020 ||: 100%|██████████████████████████████████████████████| 12/12 [00:00<00:00, 187.75it/s]\n",
            "accuracy: 0.9064, loss: 0.2563 ||: 100%|█████████████████████████████████████████████| 281/281 [00:03<00:00, 83.10it/s]\n",
            "accuracy: 0.8571, loss: 0.4983 ||: 100%|██████████████████████████████████████████████| 12/12 [00:00<00:00, 120.16it/s]\n",
            "accuracy: 0.9067, loss: 0.2534 ||: 100%|█████████████████████████████████████████████| 281/281 [00:03<00:00, 82.74it/s]\n",
            "accuracy: 0.8571, loss: 0.5102 ||: 100%|██████████████████████████████████████████████| 12/12 [00:00<00:00, 200.27it/s]\n",
            "accuracy: 0.9089, loss: 0.2520 ||: 100%|█████████████████████████████████████████████| 281/281 [00:03<00:00, 84.75it/s]\n",
            "accuracy: 0.8612, loss: 0.4993 ||: 100%|██████████████████████████████████████████████| 12/12 [00:00<00:00, 187.76it/s]\n",
            "accuracy: 0.9071, loss: 0.2490 ||: 100%|█████████████████████████████████████████████| 281/281 [00:03<00:00, 93.13it/s]\n",
            "accuracy: 0.8592, loss: 0.4916 ||: 100%|██████████████████████████████████████████████| 12/12 [00:00<00:00, 206.92it/s]\n",
            "accuracy: 0.9112, loss: 0.2490 ||: 100%|█████████████████████████████████████████████| 281/281 [00:03<00:00, 92.73it/s]\n",
            "accuracy: 0.8551, loss: 0.4946 ||: 100%|██████████████████████████████████████████████| 12/12 [00:00<00:00, 150.20it/s]\n",
            "accuracy: 0.9094, loss: 0.2480 ||: 100%|█████████████████████████████████████████████| 281/281 [00:03<00:00, 92.36it/s]\n",
            "accuracy: 0.8551, loss: 0.4807 ||: 100%|██████████████████████████████████████████████| 12/12 [00:00<00:00, 187.76it/s]\n",
            "accuracy: 0.9110, loss: 0.2431 ||: 100%|█████████████████████████████████████████████| 281/281 [00:03<00:00, 92.57it/s]\n",
            "accuracy: 0.8571, loss: 0.4838 ||: 100%|██████████████████████████████████████████████| 12/12 [00:00<00:00, 187.75it/s]\n",
            "accuracy: 0.9109, loss: 0.2433 ||: 100%|█████████████████████████████████████████████| 281/281 [00:03<00:00, 90.73it/s]\n",
            "accuracy: 0.8551, loss: 0.4735 ||: 100%|██████████████████████████████████████████████| 12/12 [00:00<00:00, 214.57it/s]\n",
            "accuracy: 0.9112, loss: 0.2410 ||: 100%|█████████████████████████████████████████████| 281/281 [00:02<00:00, 94.75it/s]\n",
            "accuracy: 0.8551, loss: 0.4966 ||: 100%|██████████████████████████████████████████████| 12/12 [00:00<00:00, 200.26it/s]\n",
            "accuracy: 0.9116, loss: 0.2389 ||: 100%|█████████████████████████████████████████████| 281/281 [00:03<00:00, 90.84it/s]\n",
            "accuracy: 0.8592, loss: 0.4780 ||: 100%|██████████████████████████████████████████████| 12/12 [00:00<00:00, 176.71it/s]\n",
            "accuracy: 0.9125, loss: 0.2373 ||: 100%|█████████████████████████████████████████████| 281/281 [00:03<00:00, 91.89it/s]\n",
            "accuracy: 0.8633, loss: 0.4583 ||: 100%|██████████████████████████████████████████████| 12/12 [00:00<00:00, 187.75it/s]\n",
            "accuracy: 0.9148, loss: 0.2339 ||: 100%|█████████████████████████████████████████████| 281/281 [00:03<00:00, 92.38it/s]\n",
            "accuracy: 0.8612, loss: 0.4743 ||: 100%|██████████████████████████████████████████████| 12/12 [00:00<00:00, 214.57it/s]\n",
            "accuracy: 0.9135, loss: 0.2331 ||: 100%|█████████████████████████████████████████████| 281/281 [00:02<00:00, 94.46it/s]\n",
            "accuracy: 0.8612, loss: 0.4672 ||: 100%|██████████████████████████████████████████████| 12/12 [00:00<00:00, 158.11it/s]\n",
            "accuracy: 0.9136, loss: 0.2310 ||: 100%|█████████████████████████████████████████████| 281/281 [00:02<00:00, 94.51it/s]\n",
            "accuracy: 0.8633, loss: 0.4533 ||: 100%|██████████████████████████████████████████████| 12/12 [00:00<00:00, 176.71it/s]\n",
            "accuracy: 0.9145, loss: 0.2302 ||: 100%|█████████████████████████████████████████████| 281/281 [00:03<00:00, 91.90it/s]\n",
            "accuracy: 0.8633, loss: 0.4622 ||: 100%|██████████████████████████████████████████████| 12/12 [00:00<00:00, 183.65it/s]\n",
            "accuracy: 0.9154, loss: 0.2265 ||: 100%|█████████████████████████████████████████████| 281/281 [00:03<00:00, 92.99it/s]\n",
            "accuracy: 0.8633, loss: 0.4640 ||: 100%|██████████████████████████████████████████████| 12/12 [00:00<00:00, 200.27it/s]\n",
            "accuracy: 0.9147, loss: 0.2264 ||: 100%|█████████████████████████████████████████████| 281/281 [00:03<00:00, 93.25it/s]\n",
            "accuracy: 0.8612, loss: 0.4458 ||: 100%|██████████████████████████████████████████████| 12/12 [00:00<00:00, 158.11it/s]\n",
            "accuracy: 0.9166, loss: 0.2230 ||: 100%|█████████████████████████████████████████████| 281/281 [00:03<00:00, 79.88it/s]\n",
            "accuracy: 0.8653, loss: 0.4469 ||: 100%|██████████████████████████████████████████████| 12/12 [00:00<00:00, 187.75it/s]\n",
            "accuracy: 0.9172, loss: 0.2202 ||: 100%|█████████████████████████████████████████████| 281/281 [00:03<00:00, 78.88it/s]\n",
            "accuracy: 0.8633, loss: 0.4518 ||: 100%|██████████████████████████████████████████████| 12/12 [00:00<00:00, 158.10it/s]\n",
            "accuracy: 0.9179, loss: 0.2187 ||: 100%|█████████████████████████████████████████████| 281/281 [00:03<00:00, 92.84it/s]\n",
            "accuracy: 0.8612, loss: 0.4318 ||: 100%|██████████████████████████████████████████████| 12/12 [00:00<00:00, 187.75it/s]\n",
            "accuracy: 0.9179, loss: 0.2143 ||: 100%|█████████████████████████████████████████████| 281/281 [00:02<00:00, 94.00it/s]\n",
            "accuracy: 0.8653, loss: 0.4413 ||: 100%|██████████████████████████████████████████████| 12/12 [00:00<00:00, 187.75it/s]\n",
            "accuracy: 0.9193, loss: 0.2178 ||: 100%|█████████████████████████████████████████████| 281/281 [00:03<00:00, 92.52it/s]\n",
            "accuracy: 0.8714, loss: 0.4232 ||: 100%|██████████████████████████████████████████████| 12/12 [00:00<00:00, 166.89it/s]\n",
            "accuracy: 0.9205, loss: 0.2131 ||: 100%|█████████████████████████████████████████████| 281/281 [00:03<00:00, 91.77it/s]\n",
            "accuracy: 0.8592, loss: 0.4770 ||: 100%|██████████████████████████████████████████████| 12/12 [00:00<00:00, 187.75it/s]\n"
          ],
          "name": "stderr"
        },
        {
          "output_type": "execute_result",
          "data": {
            "text/plain": [
              "{'best_epoch': 98,\n",
              " 'peak_cpu_memory_MB': 0,\n",
              " 'peak_gpu_0_memory_MB': 590,\n",
              " 'training_duration': '0:05:29.422421',\n",
              " 'training_start_epoch': 0,\n",
              " 'training_epochs': 99,\n",
              " 'epoch': 99,\n",
              " 'training_accuracy': 0.920453341807012,\n",
              " 'training_loss': 0.21308933831672633,\n",
              " 'training_cpu_memory_MB': 0.0,\n",
              " 'training_gpu_0_memory_MB': 590,\n",
              " 'validation_accuracy': 0.8591836734693877,\n",
              " 'validation_loss': 0.47701976203825325,\n",
              " 'best_validation_accuracy': 0.8714285714285714,\n",
              " 'best_validation_loss': 0.42315542597013217}"
            ]
          },
          "metadata": {
            "tags": []
          },
          "execution_count": 5
        }
      ]
    },
    {
      "cell_type": "markdown",
      "metadata": {
        "colab_type": "text",
        "id": "mwN6ctqVV0tf"
      },
      "source": [
        "## Evaluation"
      ]
    },
    {
      "cell_type": "markdown",
      "metadata": {
        "colab_type": "text",
        "id": "qkDs_UdIeuFz"
      },
      "source": [
        "The simple code below creators a `predictor` object that applies the model to an input example and then loops over the examples in the validation set, printing out the input token, gold-standard output, and model output. You can see from these methods how to access data and model outputs for evaluation."
      ]
    },
    {
      "cell_type": "code",
      "metadata": {
        "colab_type": "code",
        "id": "S0bE4fmLik08",
        "colab": {}
      },
      "source": [
        "predictor = SentenceTaggerPredictor(model, dataset_reader=reader)\n",
        "\n",
        "def tag_sentence(s):\n",
        "  tag_ids = np.argmax(predictor.predict_instance(s)['tag_logits'], axis=-1)\n",
        "  fields = zip(s['tokens'], s['tags'], [model.vocab.get_token_from_index(i, 'labels') for i in tag_ids])\n",
        "  return list(fields)\n",
        "\n",
        "baseline_output = [tag_sentence(i) for i in validation_dataset]"
      ],
      "execution_count": 0,
      "outputs": []
    },
    {
      "cell_type": "markdown",
      "metadata": {
        "colab_type": "text",
        "id": "BpYMx7RVfCyT"
      },
      "source": [
        "Now, you can implement two evaluation functions: `violations` and `span_stats`."
      ]
    },
    {
      "cell_type": "code",
      "metadata": {
        "colab_type": "code",
        "id": "P042A2Ofg3wa",
        "colab": {},
        "outputId": "15135e51-b251-41d4-8a5c-9201a09f744b"
      },
      "source": [
        "# TODO: count the number of NER label violations,\n",
        "# such as O followed by I-TYPE or B-TYPE followed by\n",
        "# I-OTHER_TYPE\n",
        "# Take tagger output as input\n",
        "def violations(tagged):\n",
        "  count = 0\n",
        "  for each_sentence in tagged:\n",
        "    prev_label = []\n",
        "    for i in range(len(each_sentence)):\n",
        "      each_triple = each_sentence[i]\n",
        "      pred_label = each_triple[2].split(\"-\")\n",
        "#       print(pred_label)\n",
        "      # check for begining of the sentence violation\n",
        "      if i==0:\n",
        "        if len(pred_label)>1 and pred_label[1]==\"I\":\n",
        "#           print(\"violation\")\n",
        "          count +=1\n",
        "      else:\n",
        "        if pred_label[0]==\"I\":\n",
        "          if prev_label[0]==\"O\":\n",
        "#             print(\"violation\")\n",
        "            count +=1\n",
        "          elif prev_label[0]==\"B\" and pred_label[1]!=prev_label[1]:\n",
        "#             print(\"violation\")\n",
        "            count +=1\n",
        "      prev_label = pred_label\n",
        "#     print(\"\\n\")\n",
        "  return count\n",
        "\n",
        "# TODO: return the span-level precision, recall, and F1\n",
        "# Take tagger output as input\n",
        "def span_stats(tagged):\n",
        "    list_all_spans_actual = []\n",
        "    list_all_spans_pred = []\n",
        "    \n",
        "    for j in range(len(tagged)):\n",
        "        each_sentence = tagged[j]\n",
        "        start_actual_label = []\n",
        "        contains_actual = []\n",
        "        start_pred_label = []\n",
        "        contains_pred = []\n",
        "        for i in range(len(each_sentence)):\n",
        "            each_triple = each_sentence[i]\n",
        "            actual_label = each_triple[1].split(\"-\")\n",
        "            pred_label = each_triple[2].split(\"-\")\n",
        "            \n",
        "            if actual_label[0]=='B' and len(contains_actual)==0:\n",
        "                start_actual_label = actual_label\n",
        "                contains_actual.append(i)\n",
        "            elif actual_label[0]=='I':\n",
        "                contains_actual.append(i)\n",
        "            elif actual_label[0]=='O' and len(contains_actual)>0:\n",
        "                list_all_spans_actual.append((start_actual_label[1], contains_actual[0], contains_actual[-1], j))\n",
        "                contains_actual = []\n",
        "                start_actual_label = []\n",
        "            elif actual_label[0]=='B' and len(contains_actual)>0:\n",
        "                list_all_spans_actual.append((start_actual_label[1], contains_actual[0], contains_actual[-1], j))\n",
        "                contains_actual = []\n",
        "                contains_actual.append(i)\n",
        "                start_actual_label = start_actual_label\n",
        "            \n",
        "            \n",
        "            if pred_label[0]=='B' and len(contains_pred)==0:\n",
        "                start_pred_label = pred_label\n",
        "                contains_pred.append(i)\n",
        "            elif pred_label[0]=='I' and len(start_pred_label)>1 and start_pred_label[1]==pred_label[1]:\n",
        "                contains_pred.append(i)\n",
        "            elif pred_label[0]=='I' and len(start_pred_label)>1 and start_pred_label[1]!=pred_label[1]:\n",
        "                contains_pred = []\n",
        "                start_pred_label = []\n",
        "            elif pred_label[0]=='O' and len(contains_pred)>0:\n",
        "                list_all_spans_pred.append((start_pred_label[1], contains_pred[0], contains_pred[-1], j))\n",
        "                contains_pred = []\n",
        "                start_pred_label = []\n",
        "            \n",
        "    count_correct_matches = 0\n",
        "    for each_tuple in list_all_spans_pred:\n",
        "        if each_tuple in list_all_spans_actual:\n",
        "            count_correct_matches += 1\n",
        "    precision = count_correct_matches/len(list_all_spans_pred)\n",
        "    recall = count_correct_matches/len(list_all_spans_actual)\n",
        "    f1 = (2* precision* recall)/(precision + recall)   \n",
        "    return {'precision': precision,\n",
        "          'recall': recall,\n",
        "          'f1': f1}\n",
        "\n",
        "## You can check how many violations are made by the model output in predictor.\n",
        "violations(baseline_output)"
      ],
      "execution_count": 0,
      "outputs": [
        {
          "output_type": "execute_result",
          "data": {
            "text/plain": [
              "31"
            ]
          },
          "metadata": {
            "tags": []
          },
          "execution_count": 110
        }
      ]
    },
    {
      "cell_type": "code",
      "metadata": {
        "id": "7E7bcgJvAReB",
        "colab_type": "code",
        "colab": {},
        "outputId": "3812382b-08c6-4951-83d7-fd99bed4fe73"
      },
      "source": [
        "span_stats(baseline_output)"
      ],
      "execution_count": 0,
      "outputs": [
        {
          "output_type": "execute_result",
          "data": {
            "text/plain": [
              "{'precision': 0.7, 'recall': 0.16279069767441862, 'f1': 0.2641509433962264}"
            ]
          },
          "metadata": {
            "tags": []
          },
          "execution_count": 111
        }
      ]
    },
    {
      "cell_type": "markdown",
      "metadata": {
        "colab_type": "text",
        "id": "fX7-quD2hnzB"
      },
      "source": [
        "## Decoding"
      ]
    },
    {
      "cell_type": "markdown",
      "metadata": {
        "colab_type": "text",
        "id": "WCgW9d9ohsGv"
      },
      "source": [
        "Now you can finally implement the simple Viterbi decoder. The `predictor` object, when applied to an input sentence, first calculates the scores for each possible output tag for each token. See the line `predictor.predict_instance(i)['tag_logits']` in the code above.\n",
        "\n",
        "Then, you will construct a transition matrix. You can use the code below to get a list of the tags the model knows about. For a set of K tags, construct a K-by-K matrix with a log(1)=0 when a transition between a given tag pair is valid and a log(0)=-infinity otherwise.\n",
        "\n",
        "Finally, implement a Viterbi decoder that takes the predictor object and a dataset object and outputs tagged data, just like the `tag_sentence` function above. It should use the Viterbi algorithm with the (max, plus) semiring. You'll be working with sums of log probabilities instead of products of probabilties.\n",
        "\n",
        "Run your `violations` function on the output of this decoder to make sure that there are no invalid tag transitions. Also, compare the span-level metrics on `baseline_output` and your new output using your `span_stats` function."
      ]
    },
    {
      "cell_type": "code",
      "metadata": {
        "colab_type": "code",
        "id": "nlP8vZhiS68K",
        "outputId": "7c3fe605-6618-41b3-d62c-e3a7cdcfba52",
        "scrolled": true,
        "colab": {
          "base_uri": "https://localhost:8080/",
          "height": 54
        }
      },
      "source": [
        "# This code show how to map from output vector components to labels\n",
        "print(vocab.get_index_to_token_vocabulary('labels'))\n",
        "\n",
        "\n",
        "\n",
        "\n",
        "vocab_dict = vocab.get_index_to_token_vocabulary('labels')\n",
        "vocab_size = len(vocab_dict)\n",
        "transition = np.zeros((vocab_size, vocab_size), dtype=float)\n",
        "transition.fill('-inf')\n",
        "for indexi,labeli in vocab_dict.items():\n",
        "    row_label = labeli.split(\"-\")\n",
        "    for indexj,labelj in vocab_dict.items():\n",
        "        col_label = labelj.split(\"-\")\n",
        "        if row_label[0]=='O' and col_label[0]!='I':\n",
        "            transition[indexi][indexj] = 0 \n",
        "        elif (row_label[0]=='B' or row_label[0]=='I') and col_label[0]=='O':\n",
        "            transition[indexi][indexj] = 0\n",
        "        elif row_label[0]=='B' and col_label[0]=='I' and row_label[1]==col_label[1]:\n",
        "            transition[indexi][indexj] = 0 \n",
        "        elif (row_label[0]=='B' or row_label[0]=='I') and col_label[0]=='B':\n",
        "            transition[indexi][indexj] = 0\n",
        "        elif row_label[0]=='I' and col_label[0]=='I' and row_label[1]==col_label[1]:\n",
        "            transition[indexi][indexj] = 0 \n",
        "\n",
        "            \n",
        "            \n",
        "            \n",
        "pi = []\n",
        "for indexi,labeli in vocab_dict.items():\n",
        "    row_label = labeli.split(\"-\")\n",
        "    if row_label[0]=='O' or row_label[0]=='B':\n",
        "        pi.append(0)\n",
        "    else:\n",
        "        pi.append('-inf')\n",
        "pi = np.array(pi, dtype=float)\n",
        "\n",
        "\n",
        "\n",
        "            \n",
        "def get_emission_prob(s):\n",
        "    return predictor.predict_instance(s)['tag_logits']\n"
      ],
      "execution_count": 0,
      "outputs": [
        {
          "output_type": "stream",
          "text": [
            "{0: 'O', 1: 'B-GPE', 2: 'I-ORG', 3: 'I-DATE', 4: 'B-CARDINAL', 5: 'I-EVENT', 6: 'B-PERSON', 7: 'B-NORP', 8: 'B-DATE', 9: 'B-ORG', 10: 'B-LOC', 11: 'I-LOC', 12: 'I-FAC', 13: 'I-PERSON', 14: 'I-GPE', 15: 'I-CARDINAL', 16: 'B-EVENT', 17: 'I-TIME', 18: 'I-WORK_OF_ART', 19: 'B-ORDINAL', 20: 'B-FAC', 21: 'B-TIME', 22: 'I-LAW', 23: 'I-QUANTITY', 24: 'I-NORP', 25: 'I-MONEY', 26: 'B-MONEY', 27: 'B-WORK_OF_ART', 28: 'B-QUANTITY', 29: 'B-LAW', 30: 'B-PRODUCT', 31: 'I-PRODUCT', 32: 'B-PERCENT', 33: 'I-PERCENT'}\n"
          ],
          "name": "stdout"
        }
      ]
    },
    {
      "cell_type": "code",
      "metadata": {
        "id": "3Wuf0n9IAReL",
        "colab_type": "code",
        "colab": {}
      },
      "source": [
        "# viterbi algorithm\n",
        "\n",
        "def viterbi_decoder(sentence):\n",
        "    emission_prob = np.array(get_emission_prob(sentence))\n",
        "    T = len(emission_prob)\n",
        "    N = len(emission_prob[0])\n",
        "    viterbi_dp = np.zeros((N, T))\n",
        "    path_prob_matrix = np.zeros((N, T), dtype=int)\n",
        "    path_prob_matrix.fill(-1)\n",
        "    viterbi_dp[:,0] = np.add(pi, emission_prob[0])\n",
        "    \n",
        "    for t in range(1,T):\n",
        "        for s in range(N):\n",
        "            product = np.add(np.add(viterbi_dp[:, t-1], transition[:, s]), emission_prob[t, s])\n",
        "            index = np.argmax(product)\n",
        "            viterbi_dp[s, t] = product[index]\n",
        "            path_prob_matrix[s, t] = index\n",
        "            \n",
        "    ind = np.argmax(viterbi_dp[:,t])\n",
        "    \n",
        "    tag_ids = []\n",
        "    while ind != -1:\n",
        "        tag_ids.append(ind)\n",
        "        ind = path_prob_matrix[ind,t]\n",
        "        t -= 1\n",
        "        \n",
        "    tag_ids.reverse()\n",
        "    fields = zip(sentence['tokens'], sentence['tags'], [model.vocab.get_token_from_index(i, 'labels') for i in tag_ids])\n",
        "    return list(fields)\n",
        "\n",
        "    \n",
        "viterbi_output = [viterbi_decoder(i) for i in validation_dataset]"
      ],
      "execution_count": 0,
      "outputs": []
    },
    {
      "cell_type": "code",
      "metadata": {
        "id": "i8kZ__Y1AReO",
        "colab_type": "code",
        "colab": {},
        "outputId": "f52d2700-f949-4889-b5f7-440176a2d3ea"
      },
      "source": [
        "violations(viterbi_output)"
      ],
      "execution_count": 0,
      "outputs": [
        {
          "output_type": "execute_result",
          "data": {
            "text/plain": [
              "0"
            ]
          },
          "metadata": {
            "tags": []
          },
          "execution_count": 107
        }
      ]
    },
    {
      "cell_type": "code",
      "metadata": {
        "id": "Bhed9aZGAReR",
        "colab_type": "code",
        "colab": {},
        "outputId": "dc6c734e-0c81-458b-e8d4-75d39fc0e56c"
      },
      "source": [
        "span_stats(viterbi_output)"
      ],
      "execution_count": 0,
      "outputs": [
        {
          "output_type": "execute_result",
          "data": {
            "text/plain": [
              "{'precision': 0.32432432432432434, 'recall': 0.27906976744186046, 'f1': 0.3}"
            ]
          },
          "metadata": {
            "tags": []
          },
          "execution_count": 108
        }
      ]
    },
    {
      "cell_type": "code",
      "metadata": {
        "id": "zQj652U6AReT",
        "colab_type": "code",
        "colab": {}
      },
      "source": [
        ""
      ],
      "execution_count": 0,
      "outputs": []
    }
  ]
}